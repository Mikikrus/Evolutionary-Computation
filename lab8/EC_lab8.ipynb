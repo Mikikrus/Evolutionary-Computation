{
 "cells": [
  {
   "cell_type": "code",
   "execution_count": 1,
   "metadata": {
    "collapsed": false,
    "pycharm": {
     "name": "#%%\n"
    }
   },
   "outputs": [],
   "source": [
    "from functions import *\n",
    "import numpy as np\n",
    "from matplotlib import pyplot as plt\n",
    "from tqdm.auto import tqdm\n",
    "from time import time\n",
    "from itertools import tee"
   ]
  },
  {
   "cell_type": "code",
   "execution_count": 2,
   "metadata": {
    "collapsed": false,
    "pycharm": {
     "name": "#%%\n"
    }
   },
   "outputs": [],
   "source": [
    "def LSNS(data, distances, args=dict(running_time=10, local_search=True)):\n",
    "    best_solution = (9999999999, None)\n",
    "    order = random_initial_solution(data)\n",
    "    order = local_search_steepest(order, distances, data)\n",
    "    best_order = order\n",
    "    start = time()\n",
    "    count = 0\n",
    "    while(args[\"running_time\"] > time() - start):\n",
    "        count += 1\n",
    "        order = destroy(best_order,distances)\n",
    "        order = repair(order, distances, data) #ten greedy cycle\n",
    "        assert len(best_order) == len(order), f\"Length of best_order is {len(best_order)} but length of order is {len(order)}\"\n",
    "        if args[\"local_search\"]:\n",
    "            order = local_search_steepest(order, distances, data)\n",
    "        solution = calculate_value(data, distances, order)\n",
    "        if solution[0] < best_solution[0]:\n",
    "            best_solution = solution\n",
    "            best_order = order\n",
    "#         best_solution = min((best_solution, calculate_value(data, distances, order)), key = lambda t: t[0])\n",
    "    return best_solution[0], best_order"
   ]
  },
  {
   "cell_type": "code",
   "execution_count": 3,
   "metadata": {
    "collapsed": false,
    "pycharm": {
     "name": "#%%\n"
    }
   },
   "outputs": [],
   "source": [
    "def evaluate(func, data, n=20, args=None):\n",
    "    print(func, args)\n",
    "    distances = calculate_cost(data)\n",
    "    total, worst_value, best_value, best_solution = 0, 0, float('inf'), None\n",
    "    total_time, worst_time, best_time = 0,0,float('inf')\n",
    "    total_iterations, most_iterations, least_iterations = 0,0,float('inf')\n",
    "    for _ in tqdm(range(n)):\n",
    "        start = time()\n",
    "        (value, solution), iterations = func(data, distances, args)\n",
    "        elapsed = time() - start\n",
    "        total_time += elapsed\n",
    "        if elapsed < best_time:\n",
    "            best_time = elapsed\n",
    "        worst_time = max(worst_time, elapsed)\n",
    "\n",
    "\n",
    "        total += value\n",
    "        if value < best_value:\n",
    "            best_solution = solution\n",
    "            best_value = value\n",
    "        worst_value = max(worst_value, value)\n",
    "\n",
    "        total_iterations += iterations\n",
    "        least_iterations = min(least_iterations, iterations)\n",
    "        most_iterations = max(most_iterations, iterations)\n",
    "\n",
    "    return dict(average_score=total / n,\n",
    "                worst_score=worst_value,\n",
    "                best_score=best_value,\n",
    "                solution=np.array(best_solution).T,\n",
    "                average_time=total_time / n,\n",
    "                worst_time= worst_time,\n",
    "                best_time = best_time,\n",
    "                average_iterations=total_iterations / n,\n",
    "                most_iterations=most_iterations,\n",
    "                least_iterations=least_iterations)"
   ]
  },
  {
   "cell_type": "code",
   "execution_count": 4,
   "metadata": {
    "collapsed": false,
    "pycharm": {
     "name": "#%%\n"
    }
   },
   "outputs": [],
   "source": [
    "def summarize(func, data, title, args):\n",
    "    evaluation_results = evaluate(func=func,\n",
    "                                    data=data,\n",
    "                                     n = 20,\n",
    "                                     args = args)\n",
    "    (x, y, z) = evaluation_results[\"solution\"]\n",
    "    print(f'{title}:')\n",
    "    print(f'average time: {evaluation_results[\"average_time\"]}\\tworst time: {evaluation_results[\"worst_time\"]}\\tbest time: {evaluation_results[\"best_time\"]}')\n",
    "    print(f'average iterations: {evaluation_results[\"average_iterations\"]}\\tmost iterations: {evaluation_results[\"most_iterations\"]}\\tleast iterations: {evaluation_results[\"least_iterations\"]}')\n",
    "    print(f'average score: {evaluation_results[\"average_score\"]}\\tworst score: {evaluation_results[\"worst_score\"]}\\tbest score: {evaluation_results[\"best_score\"]}')\n",
    "    print('Best solution:')\n",
    "\n",
    "    plt.figure(figsize=(15,10))\n",
    "    plt.scatter(data[:,0], data[:,1], np.full(data[:,0].size, 100), data[:,2], cmap='gray_r')\n",
    "    plt.clim(0, 1000)\n",
    "    plt.colorbar().set_label('cost', labelpad=-45, y=1.025, rotation=0)\n",
    "    plt.plot(x, y, 'r')\n",
    "    plt.xlim([-100, 4100])\n",
    "    plt.ylim([-100, 2100])\n",
    "    plt.title(title)\n",
    "    plt.show()\n",
    "    return evaluation_results"
   ]
  },
  {
   "cell_type": "code",
   "execution_count": 5,
   "metadata": {},
   "outputs": [],
   "source": [
    "def pairwise(iterable):\n",
    "    \"s -> (s0,s1), (s1,s2), (s2, s3), ...\"\n",
    "    a, b = tee(iterable)\n",
    "    next(b, None)\n",
    "    return np.sort(np.array(list(zip(a, b))))"
   ]
  },
  {
   "cell_type": "code",
   "execution_count": 6,
   "metadata": {},
   "outputs": [],
   "source": [
    "def intersect2d(A, B):\n",
    "    nrows, ncols = A.shape\n",
    "    dtype={'names':['f{}'.format(i) for i in range(ncols)],\n",
    "           'formats':ncols * [A.dtype]}\n",
    "    C = np.intersect1d(A.view(dtype), B.view(dtype))\n",
    "    return C"
   ]
  },
  {
   "cell_type": "code",
   "execution_count": 7,
   "metadata": {},
   "outputs": [],
   "source": [
    "def similarity(instances, best_solution=None):\n",
    "    instances = list(zip(*instances))\n",
    "    scores = np.array(instances[0])\n",
    "    nodes = np.array(instances[1])\n",
    "#     print(nodes.shape, scores)\n",
    "    edges = np.apply_along_axis(pairwise, 1, nodes)\n",
    "    out = np.zeros((len(scores), 3))\n",
    "    if best_solution is None:\n",
    "        for i, (a_node, a_edge) in enumerate(zip(nodes, edges)):\n",
    "            node_count, edge_count = 0, 0\n",
    "            for j, (b_node, b_edge) in enumerate(zip(nodes, edges)):\n",
    "                if i == j:\n",
    "                    continue\n",
    "                node_count += len(np.intersect1d(a_node, b_node))\n",
    "                edge_count += len(intersect2d(a_edge, b_edge))\n",
    "            out[i] = np.array([scores[i], node_count/(len(nodes)-1), edge_count/(len(edges)-1)])\n",
    "    else:\n",
    "        best_nodes = nodes[best_solution]\n",
    "        best_edges = edges[best_solution]\n",
    "        for i, (a_node, a_edge) in enumerate(zip(nodes, edges)):\n",
    "            node_count = len(np.intersect1d(a_node, best_nodes))\n",
    "            edge_count = len(intersect2d(a_edge, best_edges))\n",
    "            out[i] = np.array([scores[i], node_count, edge_count])\n",
    "    np.set_printoptions(suppress=True)\n",
    "    return out\n",
    "#     print(len(intersect2d(edges[0],edges[1])))"
   ]
  },
  {
   "cell_type": "code",
   "execution_count": 8,
   "metadata": {},
   "outputs": [],
   "source": [
    "def summarize_similarity(func, data):\n",
    "    distances = calculate_cost(data)\n",
    "\n",
    "    args = dict(running_time=0.05, local_search=False)\n",
    "    out = [func(data, distances, args) for _ in range(20)]\n",
    "    best_solution = out.index(max(out, key=lambda x:x[0]))\n",
    "\n",
    "    title = 'Average'\n",
    "    x, y1, y2 = similarity(out).T\n",
    "    plt.scatter(x, y1)\n",
    "    plt.title(title)\n",
    "    plt.show()\n",
    "    plt.scatter(x, y2)\n",
    "    plt.title(title)\n",
    "    plt.show()\n",
    "\n",
    "    title = 'Best'\n",
    "    x, y1, y2 = similarity(out, best_solution).T\n",
    "    plt.scatter(x, y1)\n",
    "    plt.title(title)\n",
    "    plt.show()\n",
    "    plt.scatter(x, y2)\n",
    "    plt.title(title)\n",
    "    plt.show()"
   ]
  },
  {
   "cell_type": "code",
   "execution_count": 9,
   "metadata": {
    "collapsed": false,
    "pycharm": {
     "name": "#%%\n"
    }
   },
   "outputs": [
    {
     "data": {
      "image/png": "[encoded data removed]",
      "text/plain": [
       "<Figure size 432x288 with 1 Axes>"
      ]
     },
     "metadata": {
      "needs_background": "light"
     },
     "output_type": "display_data"
    },
    {
     "data": {
      "image/png": "[encoded data removed]",
      "text/plain": [
       "<Figure size 432x288 with 1 Axes>"
      ]
     },
     "metadata": {
      "needs_background": "light"
     },
     "output_type": "display_data"
    },
    {
     "data": {
      "image/png": "[encoded data removed]",
      "text/plain": [
       "<Figure size 432x288 with 1 Axes>"
      ]
     },
     "metadata": {
      "needs_background": "light"
     },
     "output_type": "display_data"
    },
    {
     "data": {
      "image/png": "[encoded data removed]",
      "text/plain": [
       "<Figure size 432x288 with 1 Axes>"
      ]
     },
     "metadata": {
      "needs_background": "light"
     },
     "output_type": "display_data"
    }
   ],
   "source": [
    "data = np.loadtxt('TSPC.csv', dtype=int, delimiter=';')\n",
    "summarize_similarity(LSNS, data)"
   ]
  },
  {
   "cell_type": "code",
   "execution_count": 11,
   "metadata": {
    "collapsed": false,
    "pycharm": {
     "name": "#%%\n"
    }
   },
   "outputs": [
    {
     "data": {
      "image/png": "[encoded data removed]",
      "text/plain": [
       "<Figure size 432x288 with 1 Axes>"
      ]
     },
     "metadata": {
      "needs_background": "light"
     },
     "output_type": "display_data"
    },
    {
     "data": {
      "image/png": "[encoded data removed]",
      "text/plain": [
       "<Figure size 432x288 with 1 Axes>"
      ]
     },
     "metadata": {
      "needs_background": "light"
     },
     "output_type": "display_data"
    },
    {
     "data": {
      "image/png": "[encoded data removed]",
      "text/plain": [
       "<Figure size 432x288 with 1 Axes>"
      ]
     },
     "metadata": {
      "needs_background": "light"
     },
     "output_type": "display_data"
    },
    {
     "data": {
      "image/png": "[encoded data removed]",
      "text/plain": [
       "<Figure size 432x288 with 1 Axes>"
      ]
     },
     "metadata": {
      "needs_background": "light"
     },
     "output_type": "display_data"
    }
   ],
   "source": [
    "data = np.loadtxt('TSPD.csv', dtype=int, delimiter=';')\n",
    "summarize_similarity(LSNS, data)"
   ]
  }
 ],
 "metadata": {
  "kernelspec": {
   "display_name": "Python 3",
   "language": "python",
   "name": "python3"
  },
  "language_info": {
   "codemirror_mode": {
    "name": "ipython",
    "version": 3
   },
   "file_extension": ".py",
   "mimetype": "text/x-python",
   "name": "python",
   "nbconvert_exporter": "python",
   "pygments_lexer": "ipython3",
   "version": "3.7.3"
  }
 },
 "nbformat": 4,
 "nbformat_minor": 2
}
