{
 "cells": [
  {
   "cell_type": "code",
   "execution_count": 1,
   "outputs": [],
   "source": [
    "import numpy as np\n",
    "from functions import greedy_cycle_with_regret, local_search_steepest"
   ],
   "metadata": {
    "collapsed": false,
    "pycharm": {
     "name": "#%%\n"
    }
   }
  },
  {
   "cell_type": "code",
   "execution_count": 2,
   "outputs": [],
   "source": [
    "def mutate(parent1: np.array, parent2: np.array, **kwargs):\n",
    "    common_nodes = np.intersect1d(parent1,parent2)\n",
    "    all_nodes = np.arange(200)\n",
    "    np.random.shuffle(all_nodes)\n",
    "    common_nodes_mask = np.apply_along_axis(lambda x: np.isin(x,common_nodes),axis=0,arr=parent1)\n",
    "    parent1[~common_nodes_mask] = np.setdiff1d(all_nodes,common_nodes)[:np.count_nonzero(~common_nodes_mask)]\n",
    "    return parent1"
   ],
   "metadata": {
    "collapsed": false,
    "pycharm": {
     "name": "#%%\n"
    }
   }
  },
  {
   "cell_type": "code",
   "execution_count": 3,
   "outputs": [],
   "source": [
    "def mutate2(parent1: np.array,\n",
    "            parent2: np.array,\n",
    "            distances: np.ndarray,\n",
    "            data:np.ndarray,\n",
    "            run_local_search: bool = True):\n",
    "    common_nodes = np.intersect1d(parent1,parent2)\n",
    "    common_nodes_mask = np.apply_along_axis(lambda x: np.isin(x,common_nodes),axis=0,arr=parent1)\n",
    "    offspring =  greedy_cycle_with_regret(parent1[common_nodes_mask], distances, data, 3, 0.5)\n",
    "    if run_local_search:\n",
    "        offspring = local_search_steepest(offspring, distances, data)\n",
    "    return offspring"
   ],
   "metadata": {
    "collapsed": false,
    "pycharm": {
     "name": "#%%\n"
    }
   }
  },
  {
   "cell_type": "code",
   "execution_count": null,
   "outputs": [],
   "source": [
    "offspring = mutate(parent1=parent1,\n",
    "                   parent2=parent2,\n",
    "                   distances=distances,\n",
    "                   data=data,\n",
    "                   run_local_search=False)"
   ],
   "metadata": {
    "collapsed": false,
    "pycharm": {
     "name": "#%%\n"
    }
   }
  }
 ],
 "metadata": {
  "kernelspec": {
   "display_name": "Python 3",
   "language": "python",
   "name": "python3"
  },
  "language_info": {
   "codemirror_mode": {
    "name": "ipython",
    "version": 2
   },
   "file_extension": ".py",
   "mimetype": "text/x-python",
   "name": "python",
   "nbconvert_exporter": "python",
   "pygments_lexer": "ipython2",
   "version": "2.7.6"
  }
 },
 "nbformat": 4,
 "nbformat_minor": 0
}