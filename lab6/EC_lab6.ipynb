{
 "cells": [
  {
   "cell_type": "code",
   "execution_count": 89,
   "metadata": {
    "pycharm": {
     "name": "#%%\n"
    }
   },
   "outputs": [],
   "source": [
    "import numpy as np\n",
    "import random\n",
    "from matplotlib import pyplot as plt\n",
    "from tqdm.auto import tqdm\n",
    "from scipy.spatial.distance import cdist\n",
    "from itertools import combinations\n",
    "from numpy.lib.stride_tricks import sliding_window_view\n",
    "from time import time"
   ]
  },
  {
   "cell_type": "code",
   "execution_count": 90,
   "metadata": {
    "pycharm": {
     "name": "#%%\n"
    }
   },
   "outputs": [],
   "source": [
    "def calculate_average(*args,**kwargs):\n",
    "    return np.mean(args)"
   ]
  },
  {
   "cell_type": "code",
   "execution_count": 91,
   "metadata": {
    "pycharm": {
     "name": "#%%\n"
    }
   },
   "outputs": [],
   "source": [
    "def calculate_cost(data: np.ndarray) -> np.ndarray:\n",
    "    costs = cdist(data[:,2].reshape(-1,1), data[:,2].reshape(-1,1),calculate_average)\n",
    "    distances = np.round(cdist(data[:,:2], data[:,:2], 'euclidean'))\n",
    "    distances = distances + costs\n",
    "    return distances"
   ]
  },
  {
   "cell_type": "code",
   "execution_count": 92,
   "metadata": {
    "pycharm": {
     "name": "#%%\n"
    }
   },
   "outputs": [],
   "source": [
    "def random_initial_solution(data: np.ndarray) -> np.ndarray:\n",
    "    \"\"\"\n",
    "    Creates shuffled array of indices with size equal to half of the data points.\n",
    "    :param data: Data points\n",
    "    :type data: np.ndarray\n",
    "    :return: Data indices of nodes contained in initial solutions\n",
    "    :rtype: np.ndarray\n",
    "    \"\"\"\n",
    "    indices = np.arange(len(data))\n",
    "    np.random.shuffle(indices)\n",
    "    order = indices[:len(data)//2]\n",
    "    return order"
   ]
  },
  {
   "cell_type": "code",
   "execution_count": 93,
   "metadata": {
    "pycharm": {
     "name": "#%%\n"
    }
   },
   "outputs": [],
   "source": [
    "def create_node_exchange_neighborhood(order: np.ndarray, num_of_all_points: int) -> np.ndarray:\n",
    "    ind = np.arange(len(order))\n",
    "    #Inter-route\n",
    "    indices_for_all_data = np.arange(num_of_all_points)\n",
    "    not_selected = np.setdiff1d(indices_for_all_data, order)\n",
    "    XX, YY = np.meshgrid(ind,not_selected)\n",
    "    inter_route = np.dstack([XX,YY]).reshape(-1, 2)\n",
    "    is_inter_route = np.zeros((inter_route.shape[0],1),dtype=np.int32)\n",
    "    inter_route = np.concatenate((is_inter_route,inter_route),1)\n",
    "    return inter_route"
   ]
  },
  {
   "cell_type": "code",
   "execution_count": 94,
   "metadata": {
    "pycharm": {
     "name": "#%%\n"
    }
   },
   "outputs": [],
   "source": [
    "def create_neighborhood(order: np.ndarray, num_of_all_points: int) -> np.ndarray:\n",
    "    \"\"\"\n",
    "    Creates every possible move.\n",
    "    ------------\n",
    "    Inter-route\n",
    "        Creates every possible combination of adding a new node to the nodes contained in the solution\n",
    "    Edge exchange\n",
    "        Creates every possible combination of pairs contained in the solution\n",
    "\n",
    "    :param order: Array of indices contained in the solution\n",
    "    :type order: np.ndarray\n",
    "    :param num_of_all_points: Number of all data points\n",
    "    :type num_of_all_points: int\n",
    "    :return: Neighborhood with first column defining whether move is inter-route and the following columns defining move.\n",
    "    :rtype:\n",
    "    \"\"\"\n",
    "    ind = np.arange(len(order))\n",
    "    #Inter-route\n",
    "    inter_route = create_node_exchange_neighborhood(order,num_of_all_points)\n",
    "    # #Edge exchange\n",
    "    edge_ex = np.array(list(combinations(ind, 2)))\n",
    "    is_inter_route = np.ones((edge_ex.shape[0],1),dtype=np.int32)\n",
    "    edge_ex = np.concatenate((is_inter_route,edge_ex),1)\n",
    "    # return edge_ex\n",
    "    neighborhood = np.vstack((inter_route,edge_ex))\n",
    "    return neighborhood\n",
    "    # return edge_ex"
   ]
  },
  {
   "cell_type": "code",
   "execution_count": 95,
   "metadata": {
    "pycharm": {
     "name": "#%%\n"
    }
   },
   "outputs": [],
   "source": [
    "def calculate_value(data: np.ndarray, distances: np.ndarray, order: np.ndarray) -> tuple:\n",
    "    \"\"\"\n",
    "    :param data: Data points\n",
    "    :type data: np.ndarray\n",
    "    :param distances: Distance matrix\n",
    "    :type distances: np.ndarray\n",
    "    :param order: Array of indices contained in the solution\n",
    "    :type order: np.ndarray\n",
    "    :return: Tuple containing score for the current solution and data points corresponding to the solution\n",
    "    :rtype:\n",
    "    \"\"\"\n",
    "    order = np.append(order,order[0])\n",
    "    x,y =sliding_window_view(order.reshape(1,-1),(1,2)).reshape(-1,2).T\n",
    "    value = distances[x,y].sum()\n",
    "    path = data[order]\n",
    "    return value, path"
   ]
  },
  {
   "cell_type": "code",
   "execution_count": 96,
   "metadata": {
    "pycharm": {
     "name": "#%%\n"
    }
   },
   "outputs": [],
   "source": [
    "def calculate_deltas_for_node_exchange_moves(order:np.ndarray, distances: np.ndarray, possible_inter_moves: np.ndarray) -> np.ndarray:\n",
    "\n",
    "    left_neighbors = order[possible_inter_moves[:,1] -1]\n",
    "    right_neighbors = order[np.remainder(possible_inter_moves[:,1] +1, len(order))]\n",
    "    currently_chosen_nodes = order[possible_inter_moves[:,1]]\n",
    "    current_distances = distances[left_neighbors,currently_chosen_nodes] + distances[currently_chosen_nodes,right_neighbors]\n",
    "\n",
    "    possible_new_nodes = possible_inter_moves[:,2]\n",
    "    possible_new_distances = distances[left_neighbors,possible_new_nodes] + distances[possible_new_nodes,right_neighbors]\n",
    "\n",
    "    all_deltas = current_distances - possible_new_distances\n",
    "    improving_moves_mask = all_deltas>0\n",
    "\n",
    "\n",
    "    improving_deltas = all_deltas[improving_moves_mask].reshape(-1,1).astype(np.int32)\n",
    "\n",
    "    improving_moves = possible_inter_moves[improving_moves_mask]\n",
    "    improving_moves = np.concatenate((improving_deltas,improving_moves),axis=1)\n",
    "    return improving_moves"
   ]
  },
  {
   "cell_type": "code",
   "execution_count": 97,
   "metadata": {
    "pycharm": {
     "name": "#%%\n"
    }
   },
   "outputs": [],
   "source": [
    "def calculate_deltas_for_edge_exchange(order:np.ndarray, distances: np.ndarray, possible_edge_exchange_moves: np.ndarray) -> np.ndarray:\n",
    "    left_nodes = order[possible_edge_exchange_moves[:,1]]\n",
    "    left_nodes_predecessors = order[possible_edge_exchange_moves[:,1] -1]\n",
    "\n",
    "    right_nodes = order[possible_edge_exchange_moves[:,2]]\n",
    "    right_nodes_predecessors = order[possible_edge_exchange_moves[:,2] -1]\n",
    "\n",
    "    current_distances = distances[left_nodes,left_nodes_predecessors] + distances[right_nodes,right_nodes_predecessors]\n",
    "    distances_after_edge_swap = distances[left_nodes,right_nodes] + distances[left_nodes_predecessors,right_nodes_predecessors]\n",
    "\n",
    "    all_deltas = current_distances - distances_after_edge_swap\n",
    "    improving_moves_mask = all_deltas>0\n",
    "\n",
    "\n",
    "    improving_deltas = all_deltas[improving_moves_mask].reshape(-1,1).astype(np.int32)\n",
    "    improving_moves = possible_edge_exchange_moves[improving_moves_mask]\n",
    "    improving_moves = np.concatenate((improving_deltas,improving_moves),axis=1)\n",
    "    return improving_moves"
   ]
  },
  {
   "cell_type": "code",
   "execution_count": 98,
   "metadata": {
    "pycharm": {
     "name": "#%%\n"
    }
   },
   "outputs": [],
   "source": [
    "def calculate_deltas(order: np.ndarray, distances: np.ndarray, neighborhood: np.ndarray) -> np.ndarray:\n",
    "    possible_inter_moves = neighborhood[neighborhood[:,0] == 0]\n",
    "    improving_inter_moves = calculate_deltas_for_node_exchange_moves(order=order,\n",
    "                                                                   distances=distances,\n",
    "                                                                   possible_inter_moves=possible_inter_moves)\n",
    "\n",
    "    possible_edge_exchange_moves = neighborhood[neighborhood[:,0] != 0]\n",
    "\n",
    "    improving_edge_exchange_moves = calculate_deltas_for_edge_exchange(order=order,\n",
    "                                                                       distances=distances,\n",
    "                                                                       possible_edge_exchange_moves=possible_edge_exchange_moves)\n",
    "\n",
    "    all_improving_moves = np.concatenate((improving_inter_moves,improving_edge_exchange_moves),axis=0)\n",
    "\n",
    "    sorted_improving_moves = all_improving_moves[all_improving_moves[:,0].argsort()[::-1]]\n",
    "\n",
    "    return sorted_improving_moves"
   ]
  },
  {
   "cell_type": "code",
   "execution_count": 99,
   "metadata": {
    "pycharm": {
     "name": "#%%\n"
    }
   },
   "outputs": [],
   "source": [
    "def remove_not_applicable_moves(deltas:np.ndarray,best_move: np.ndarray) -> np.ndarray:\n",
    "    node_exchange_moves = deltas[:,1] == 0\n",
    "    edge_exchange_moves = deltas[:,1] == 1\n",
    "\n",
    "    cond = np.bitwise_and(node_exchange_moves,deltas[:,3] ==  best_move[3])\n",
    "\n",
    "    not_applicable_moves = cond\n",
    "    return deltas[~not_applicable_moves]"
   ]
  },
  {
   "cell_type": "code",
   "execution_count": 100,
   "metadata": {
    "pycharm": {
     "name": "#%%\n"
    }
   },
   "outputs": [],
   "source": [
    "def update_order_node_exchange(order:np.ndarray, best_move: np.ndarray) -> np.ndarray:\n",
    "    order[best_move[2]] = best_move[3]\n",
    "    return order"
   ]
  },
  {
   "cell_type": "code",
   "execution_count": 101,
   "metadata": {
    "pycharm": {
     "name": "#%%\n"
    }
   },
   "outputs": [],
   "source": [
    "def update_order_edge_exchange(order:np.ndarray, best_move: np.ndarray) -> np.ndarray:\n",
    "    ind = sorted([best_move[2], best_move[3]])\n",
    "    if ind[0] == 0:\n",
    "        order = np.concatenate((order[ind[1]-1::-1],order[ind[1]:]))\n",
    "    else:\n",
    "        order = np.concatenate((order[:ind[0]],order[ind[1]-1:ind[0]-1:-1],order[ind[1]:]))\n",
    "    return order"
   ]
  },
  {
   "cell_type": "code",
   "execution_count": 102,
   "metadata": {
    "pycharm": {
     "name": "#%%\n"
    }
   },
   "outputs": [],
   "source": [
    "def get_moves_to_recalculate_node_exchange(order:np.ndarray,deltas: np.ndarray, best_move: np.ndarray) -> np.ndarray:\n",
    "    node_exchange_moves = deltas[:,1] == 0\n",
    "    edge_exchange_moves = deltas[:,1] == 1\n",
    "\n",
    "    cond1 = np.bitwise_and(node_exchange_moves,deltas[:,2] == best_move[2])\n",
    "    cond2 = np.bitwise_and(node_exchange_moves,deltas[:,2] == (best_move[2] - 1) % len(order))\n",
    "    cond3 = np.bitwise_and(node_exchange_moves,deltas[:,3] == best_move[3])\n",
    "    cond4 = np.bitwise_and(node_exchange_moves,deltas[:,2] == (best_move[2] +1) % len(order))\n",
    "\n",
    "    cond5 = np.bitwise_and(edge_exchange_moves,deltas[:,2] == best_move[2])\n",
    "    cond6 = np.bitwise_and(edge_exchange_moves,deltas[:,2] == (best_move[2] +1) % len(order))\n",
    "    cond9 = np.bitwise_and(edge_exchange_moves,deltas[:,3] == best_move[2])\n",
    "    cond10 = np.bitwise_and(edge_exchange_moves,deltas[:,3] == (best_move[2] +1) % len(order))\n",
    "\n",
    "    moves_to_remove = cond1 | cond2 | cond3 | cond4 | cond5 | cond6 | cond9 | cond10\n",
    "    return moves_to_remove"
   ]
  },
  {
   "cell_type": "code",
   "execution_count": 103,
   "metadata": {
    "pycharm": {
     "name": "#%%\n"
    }
   },
   "outputs": [],
   "source": [
    "def create_new_moves(order: np.ndarray, removed_node: int) -> np.ndarray:\n",
    "    ind = np.arange(len(order))\n",
    "    removed_node = np.array([removed_node])\n",
    "    XX, YY = np.meshgrid(ind,removed_node)\n",
    "    inter_route = np.dstack([XX,YY]).reshape(-1, 2)\n",
    "    is_inter_route = np.zeros((inter_route.shape[0],1),dtype=np.int32)\n",
    "    inter_route = np.concatenate((is_inter_route,inter_route),1)\n",
    "    return inter_route"
   ]
  },
  {
   "cell_type": "code",
   "execution_count": 104,
   "metadata": {
    "pycharm": {
     "name": "#%%\n"
    }
   },
   "outputs": [],
   "source": [
    "def get_moves_to_recalculate_edge_exchange(deltas: np.ndarray, best_move: np.ndarray) -> np.ndarray:\n",
    "    node_exchange_moves = deltas[:,1] == 0\n",
    "\n",
    "    cond1 = np.bitwise_and(node_exchange_moves,deltas[:,2] == best_move[2])\n",
    "    cond2 = np.bitwise_and(node_exchange_moves,deltas[:,2] == (best_move[2] -1) % len(order))\n",
    "    cond3 = np.bitwise_and(node_exchange_moves,deltas[:,2] == (best_move[3] -1) % len(order))\n",
    "    cond4 = np.bitwise_and(node_exchange_moves,deltas[:,2] == best_move[3])\n",
    "\n",
    "    moves_to_remove = cond1 | cond2 | cond3 | cond4\n",
    "    return moves_to_remove"
   ]
  },
  {
   "cell_type": "code",
   "execution_count": 114,
   "metadata": {},
   "outputs": [],
   "source": [
    "def local_search_steepest(order, distances):\n",
    "    neighborhood = create_neighborhood(order=order,num_of_all_points=len(data))\n",
    "    deltas = calculate_deltas(order,distances,neighborhood)\n",
    "    counter =0\n",
    "\n",
    "    while len(deltas) > 0:\n",
    "        counter +=1\n",
    "        best_move = deltas[0]\n",
    "        # print(\"best_move: \",best_move)\n",
    "        if best_move[1] == 0:\n",
    "            deltas = remove_not_applicable_moves(deltas,best_move)\n",
    "            new_deltas = create_new_moves(order,order[best_move[2]])\n",
    "\n",
    "            order = update_order_node_exchange(order,best_move=best_move)\n",
    "            moves_to_recalculate = get_moves_to_recalculate_node_exchange(order,deltas, best_move)\n",
    "\n",
    "            # print(\"node exchange to recalculate: \\n\",deltas[moves_to_recalculate])\n",
    "            nodes_moves = deltas[:,1] ==0\n",
    "\n",
    "            deltas_to_recalculate = np.concatenate((deltas[moves_to_recalculate,1:],new_deltas),axis=0)\n",
    "            updated_deltas = calculate_deltas(order, distances, deltas_to_recalculate)\n",
    "            # print(\"node exchange after recalculate: \\n\",updated_deltas)\n",
    "\n",
    "            deltas = np.concatenate((deltas[~moves_to_recalculate],updated_deltas),axis=0)\n",
    "            deltas = deltas[deltas[:,0].argsort()[::-1]]\n",
    "            # print(\"all deltas \\n\",deltas[:5])\n",
    "\n",
    "        elif best_move[1] == 1:\n",
    "            order = update_order_edge_exchange(order,best_move)\n",
    "            updated_deltas = calculate_deltas(order,distances,neighborhood[neighborhood[:,0] ==1])\n",
    "            new_deltas = calculate_deltas(order,distances,create_node_exchange_neighborhood(order,len(data)))\n",
    "\n",
    "            deltas = np.concatenate((new_deltas,updated_deltas),axis=0)\n",
    "            deltas = deltas[deltas[:,0].argsort()[::-1]]\n",
    "    return order"
   ]
  },
  {
   "cell_type": "code",
   "execution_count": 129,
   "metadata": {},
   "outputs": [],
   "source": [
    "def MSLS(data, distances, iterations=200):\n",
    "    best_solution = (9999999999, None)\n",
    "    for _ in range(iterations):\n",
    "        order = local_search_steepest(random_initial_solution(data), distances)\n",
    "        best_solution = min(best_solution, calculate_value(data, distances, order))\n",
    "    return best_solution"
   ]
  },
  {
   "cell_type": "code",
   "execution_count": 149,
   "metadata": {},
   "outputs": [],
   "source": [
    "def perturb(order):\n",
    "    while random.random() > 0.2:\n",
    "        print(order)\n",
    "        move = random.choices(order, k=2)\n",
    "        if random.random() > 0.5:\n",
    "            print([0]+move)\n",
    "            break\n",
    "            order = update_order_node_exchange(order, [None, None]+move)\n",
    "        else:\n",
    "            order = update_order_edge_exchange(order, [None, None]+move)\n",
    "    return order"
   ]
  },
  {
   "cell_type": "code",
   "execution_count": 150,
   "metadata": {},
   "outputs": [],
   "source": [
    "def ILS(data, distances, running_time=10):\n",
    "    best_solution = (9999999999, None)\n",
    "    order = random_initial_solution(data)\n",
    "    start = time()\n",
    "    while(running_time > time() - start):\n",
    "        order = local_search_steepest(order, distances)\n",
    "        best_solution = min(best_solution, calculate_value(data, distances, order))\n",
    "        order = perturb(order)\n",
    "    return best_solution"
   ]
  },
  {
   "cell_type": "code",
   "execution_count": 151,
   "metadata": {},
   "outputs": [
    {
     "name": "stdout",
     "output_type": "stream",
     "text": [
      "[152 130 119 109 189  75 174 177   1  41 199 192  43  77   4 114 121  50\n",
      " 149   0  19 178 143 147 116  27  96  59 159  37 185  64  71  61 163  74\n",
      " 113 181  25 118 128 132  36  55  30 195  22  53  62 108  15 117 171  21\n",
      " 157 129 170  79 194  81 154 144  87 141   6 156 172  66  98 190  72 112\n",
      "   5  51 135  99 101  45 186 127  88 167  60 126 134  95  31  73  12  94\n",
      "  89 111  80 169 110   8  26  92  48  11]\n",
      "[0, 190, 159]\n"
     ]
    },
    {
     "ename": "ValueError",
     "evalue": "The truth value of an array with more than one element is ambiguous. Use a.any() or a.all()",
     "output_type": "error",
     "traceback": [
      "\u001b[0;31m---------------------------------------------------------------------------\u001b[0m",
      "\u001b[0;31mValueError\u001b[0m                                Traceback (most recent call last)",
      "\u001b[0;32m<ipython-input-151-e52805d93fa8>\u001b[0m in \u001b[0;36m<module>\u001b[0;34m\u001b[0m\n\u001b[1;32m      1\u001b[0m \u001b[0mMSLS\u001b[0m\u001b[0;34m(\u001b[0m\u001b[0mdata\u001b[0m\u001b[0;34m,\u001b[0m \u001b[0mdistances\u001b[0m\u001b[0;34m,\u001b[0m \u001b[0;36m5\u001b[0m\u001b[0;34m)\u001b[0m\u001b[0;34m\u001b[0m\u001b[0;34m\u001b[0m\u001b[0m\n\u001b[0;32m----> 2\u001b[0;31m \u001b[0mILS\u001b[0m\u001b[0;34m(\u001b[0m\u001b[0mdata\u001b[0m\u001b[0;34m,\u001b[0m \u001b[0mdistances\u001b[0m\u001b[0;34m,\u001b[0m \u001b[0;36m2\u001b[0m\u001b[0;34m)\u001b[0m\u001b[0;34m\u001b[0m\u001b[0;34m\u001b[0m\u001b[0m\n\u001b[0m",
      "\u001b[0;32m<ipython-input-150-9cc4c48bef55>\u001b[0m in \u001b[0;36mILS\u001b[0;34m(data, distances, running_time)\u001b[0m\n\u001b[1;32m      5\u001b[0m     \u001b[0;32mwhile\u001b[0m\u001b[0;34m(\u001b[0m\u001b[0mrunning_time\u001b[0m \u001b[0;34m>\u001b[0m \u001b[0mtime\u001b[0m\u001b[0;34m(\u001b[0m\u001b[0;34m)\u001b[0m \u001b[0;34m-\u001b[0m \u001b[0mstart\u001b[0m\u001b[0;34m)\u001b[0m\u001b[0;34m:\u001b[0m\u001b[0;34m\u001b[0m\u001b[0;34m\u001b[0m\u001b[0m\n\u001b[1;32m      6\u001b[0m         \u001b[0morder\u001b[0m \u001b[0;34m=\u001b[0m \u001b[0mlocal_search_steepest\u001b[0m\u001b[0;34m(\u001b[0m\u001b[0morder\u001b[0m\u001b[0;34m,\u001b[0m \u001b[0mdistances\u001b[0m\u001b[0;34m)\u001b[0m\u001b[0;34m\u001b[0m\u001b[0;34m\u001b[0m\u001b[0m\n\u001b[0;32m----> 7\u001b[0;31m         \u001b[0mbest_solution\u001b[0m \u001b[0;34m=\u001b[0m \u001b[0mmin\u001b[0m\u001b[0;34m(\u001b[0m\u001b[0mbest_solution\u001b[0m\u001b[0;34m,\u001b[0m \u001b[0mcalculate_value\u001b[0m\u001b[0;34m(\u001b[0m\u001b[0mdata\u001b[0m\u001b[0;34m,\u001b[0m \u001b[0mdistances\u001b[0m\u001b[0;34m,\u001b[0m \u001b[0morder\u001b[0m\u001b[0;34m)\u001b[0m\u001b[0;34m)\u001b[0m\u001b[0;34m\u001b[0m\u001b[0;34m\u001b[0m\u001b[0m\n\u001b[0m\u001b[1;32m      8\u001b[0m         \u001b[0morder\u001b[0m \u001b[0;34m=\u001b[0m \u001b[0mperturb\u001b[0m\u001b[0;34m(\u001b[0m\u001b[0morder\u001b[0m\u001b[0;34m)\u001b[0m\u001b[0;34m\u001b[0m\u001b[0;34m\u001b[0m\u001b[0m\n\u001b[1;32m      9\u001b[0m     \u001b[0;32mreturn\u001b[0m \u001b[0mbest_solution\u001b[0m\u001b[0;34m\u001b[0m\u001b[0;34m\u001b[0m\u001b[0m\n",
      "\u001b[0;31mValueError\u001b[0m: The truth value of an array with more than one element is ambiguous. Use a.any() or a.all()"
     ]
    }
   ],
   "source": [
    "MSLS(data, distances, 5)\n",
    "ILS(data, distances, 2)"
   ]
  },
  {
   "cell_type": "code",
   "execution_count": null,
   "metadata": {
    "pycharm": {
     "name": "#%%\n"
    }
   },
   "outputs": [],
   "source": [
    "# np.random.seed(0)\n",
    "data = np.loadtxt('TSPC.csv', dtype=int, delimiter=';')\n",
    "distances = calculate_cost(data)\n",
    "start  = time()\n",
    "order = random_initial_solution(data)\n",
    "neighborhood = create_neighborhood(order=order,num_of_all_points=len(data))\n",
    "deltas = calculate_deltas(order,distances,neighborhood)\n",
    "counter =0\n",
    "\n",
    "while len(deltas) > 0:\n",
    "    counter +=1\n",
    "    best_move = deltas[0]\n",
    "    # print(\"best_move: \",best_move)\n",
    "    if best_move[1] == 0:\n",
    "        deltas = remove_not_applicable_moves(deltas,best_move)\n",
    "        new_deltas = create_new_moves(order,order[best_move[2]])\n",
    "\n",
    "        order = update_order_node_exchange(order,best_move=best_move)\n",
    "        moves_to_recalculate = get_moves_to_recalculate_node_exchange(order,deltas, best_move)\n",
    "\n",
    "        # print(\"node exchange to recalculate: \\n\",deltas[moves_to_recalculate])\n",
    "        nodes_moves = deltas[:,1] ==0\n",
    "\n",
    "        deltas_to_recalculate = np.concatenate((deltas[moves_to_recalculate,1:],new_deltas),axis=0)\n",
    "        updated_deltas = calculate_deltas(order, distances, deltas_to_recalculate)\n",
    "        # print(\"node exchange after recalculate: \\n\",updated_deltas)\n",
    "\n",
    "        deltas = np.concatenate((deltas[~moves_to_recalculate],updated_deltas),axis=0)\n",
    "        deltas = deltas[deltas[:,0].argsort()[::-1]]\n",
    "        # print(\"all deltas \\n\",deltas[:5])\n",
    "\n",
    "    elif best_move[1] == 1:\n",
    "        order = update_order_edge_exchange(order,best_move)\n",
    "        updated_deltas = calculate_deltas(order,distances,neighborhood[neighborhood[:,0] ==1])\n",
    "        new_deltas = calculate_deltas(order,distances,create_node_exchange_neighborhood(order,len(data)))\n",
    "\n",
    "        deltas = np.concatenate((new_deltas,updated_deltas),axis=0)\n",
    "        deltas = deltas[deltas[:,0].argsort()[::-1]]\n",
    "    print(len(deltas))\n",
    "print(time() - start)"
   ]
  },
  {
   "cell_type": "code",
   "execution_count": 113,
   "metadata": {
    "pycharm": {
     "name": "#%%\n"
    }
   },
   "outputs": [
    {
     "data": {
      "text/plain": [
       "[2137, [9999999, 999999999]]"
      ]
     },
     "execution_count": 113,
     "metadata": {},
     "output_type": "execute_result"
    }
   ],
   "source": [
    "min([99999, None],[2137,[9999999,999999999]])"
   ]
  },
  {
   "cell_type": "code",
   "execution_count": null,
   "metadata": {},
   "outputs": [],
   "source": []
  }
 ],
 "metadata": {
  "kernelspec": {
   "display_name": "Python 3",
   "language": "python",
   "name": "python3"
  },
  "language_info": {
   "codemirror_mode": {
    "name": "ipython",
    "version": 3
   },
   "file_extension": ".py",
   "mimetype": "text/x-python",
   "name": "python",
   "nbconvert_exporter": "python",
   "pygments_lexer": "ipython3",
   "version": "3.7.3"
  },
  "toc": {
   "base_numbering": 1,
   "nav_menu": {},
   "number_sections": true,
   "sideBar": true,
   "skip_h1_title": false,
   "title_cell": "Table of Contents",
   "title_sidebar": "Contents",
   "toc_cell": false,
   "toc_position": {},
   "toc_section_display": true,
   "toc_window_display": false
  }
 },
 "nbformat": 4,
 "nbformat_minor": 1
}
