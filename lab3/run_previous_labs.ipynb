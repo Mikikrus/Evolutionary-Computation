{
 "cells": [
  {
   "cell_type": "code",
   "execution_count": 1,
   "outputs": [],
   "source": [
    "from lab1.lab1 import evaluate as lab1_evaluate\n",
    "from lab2.lab2 import evaluate as lab2_evaluate\n",
    "from lab1.lab1 import random_solution, nearest_neighbor\n",
    "from lab2.lab2 import greedy_cycle as greedy_cycle\n",
    "import numpy as np"
   ],
   "metadata": {
    "collapsed": false,
    "pycharm": {
     "name": "#%%\n"
    }
   }
  },
  {
   "cell_type": "code",
   "execution_count": 2,
   "outputs": [],
   "source": [
    "tsp_c = np.loadtxt('TSPC.csv', dtype=int, delimiter=';')\n",
    "tsp_d = np.loadtxt('TSPD.csv', dtype=int, delimiter=';')"
   ],
   "metadata": {
    "collapsed": false,
    "pycharm": {
     "name": "#%%\n"
    }
   }
  },
  {
   "cell_type": "code",
   "execution_count": 3,
   "outputs": [
    {
     "data": {
      "text/plain": "20"
     },
     "execution_count": 3,
     "metadata": {},
     "output_type": "execute_result"
    }
   ],
   "source": [
    "scores_file = open(\"scores.csv\",\"w\")\n",
    "times_file = open(\"times.csv\",\"w\")\n",
    "scores_file.write('methods;TSP_C;TSP_D\\n')\n",
    "times_file.write('methods;TSP_C;TSP_D\\n')"
   ],
   "metadata": {
    "collapsed": false,
    "pycharm": {
     "name": "#%%\n"
    }
   }
  },
  {
   "cell_type": "code",
   "execution_count": 4,
   "outputs": [
    {
     "data": {
      "text/plain": "  0%|          | 0/200 [00:00<?, ?it/s]",
      "application/vnd.jupyter.widget-view+json": {
       "version_major": 2,
       "version_minor": 0,
       "model_id": "f374c68d1d0540e9b9e75e3b41a9c646"
      }
     },
     "metadata": {},
     "output_type": "display_data"
    },
    {
     "data": {
      "text/plain": "  0%|          | 0/200 [00:00<?, ?it/s]",
      "application/vnd.jupyter.widget-view+json": {
       "version_major": 2,
       "version_minor": 0,
       "model_id": "065d5798e3ea4440be6fd0f90e4b4414"
      }
     },
     "metadata": {},
     "output_type": "display_data"
    },
    {
     "data": {
      "text/plain": "67"
     },
     "execution_count": 4,
     "metadata": {},
     "output_type": "execute_result"
    }
   ],
   "source": [
    "results_c = lab1_evaluate(random_solution,tsp_c)\n",
    "results_d = lab1_evaluate(random_solution,tsp_d)\n",
    "\n",
    "scores_file.write(f'random solution; {results_c[\"average_score\"]} ({results_c[\"worst_score\"]} - {results_c[\"best_score\"]}); {results_d[\"average_score\"]} ({results_d[\"worst_score\"]} - {results_d[\"best_score\"]})\\n')\n",
    "\n",
    "times_file.write(f'random solution; {round(results_c[\"average_time\"],4)} ({round(results_c[\"worst_time\"],4)} - {round(results_c[\"best_time\"],4)}); {round(results_d[\"average_time\"],4)} ({round(results_d[\"worst_time\"],4)} - {round(results_d[\"best_time\"],4)})\\n')"
   ],
   "metadata": {
    "collapsed": false,
    "pycharm": {
     "name": "#%%\n"
    }
   }
  },
  {
   "cell_type": "code",
   "execution_count": 5,
   "outputs": [
    {
     "data": {
      "text/plain": "  0%|          | 0/200 [00:00<?, ?it/s]",
      "application/vnd.jupyter.widget-view+json": {
       "version_major": 2,
       "version_minor": 0,
       "model_id": "1af7f75e66514c5d8cb778fe9d2d3c87"
      }
     },
     "metadata": {},
     "output_type": "display_data"
    },
    {
     "data": {
      "text/plain": "  0%|          | 0/200 [00:00<?, ?it/s]",
      "application/vnd.jupyter.widget-view+json": {
       "version_major": 2,
       "version_minor": 0,
       "model_id": "f90eb08056dd417c8dcb90b9eeba91c4"
      }
     },
     "metadata": {},
     "output_type": "display_data"
    },
    {
     "data": {
      "text/plain": "69"
     },
     "execution_count": 5,
     "metadata": {},
     "output_type": "execute_result"
    }
   ],
   "source": [
    "results_c = lab1_evaluate(nearest_neighbor,tsp_c)\n",
    "results_d = lab1_evaluate(nearest_neighbor,tsp_d)\n",
    "\n",
    "scores_file.write(f'nearest neighbor; {results_c[\"average_score\"]} ({results_c[\"worst_score\"]} - {results_c[\"best_score\"]}); {results_d[\"average_score\"]} ({results_d[\"worst_score\"]} - {results_d[\"best_score\"]})\\n')\n",
    "\n",
    "times_file.write(f'nearest neighbor; {round(results_c[\"average_time\"],4)} ({round(results_c[\"worst_time\"],4)} - {round(results_c[\"best_time\"],4)}); {round(results_d[\"average_time\"],4)} ({round(results_d[\"worst_time\"],4)} - {round(results_d[\"best_time\"],4)})\\n')"
   ],
   "metadata": {
    "collapsed": false,
    "pycharm": {
     "name": "#%%\n"
    }
   }
  },
  {
   "cell_type": "code",
   "execution_count": 6,
   "outputs": [
    {
     "data": {
      "text/plain": "  0%|          | 0/200 [00:00<?, ?it/s]",
      "application/vnd.jupyter.widget-view+json": {
       "version_major": 2,
       "version_minor": 0,
       "model_id": "f326f8a8517043b5ab44c4c7d359f981"
      }
     },
     "metadata": {},
     "output_type": "display_data"
    },
    {
     "data": {
      "text/plain": "  0%|          | 0/200 [00:00<?, ?it/s]",
      "application/vnd.jupyter.widget-view+json": {
       "version_major": 2,
       "version_minor": 0,
       "model_id": "3026a31be3af456b8fffe660090054b9"
      }
     },
     "metadata": {},
     "output_type": "display_data"
    },
    {
     "data": {
      "text/plain": "65"
     },
     "execution_count": 6,
     "metadata": {},
     "output_type": "execute_result"
    }
   ],
   "source": [
    "results_c = lab1_evaluate(greedy_cycle,tsp_c)\n",
    "results_d = lab1_evaluate(greedy_cycle,tsp_d)\n",
    "\n",
    "scores_file.write(f'greedy cycle; {results_c[\"average_score\"]} ({results_c[\"worst_score\"]} - {results_c[\"best_score\"]}); {results_d[\"average_score\"]} ({results_d[\"worst_score\"]} - {results_d[\"best_score\"]})\\n')\n",
    "\n",
    "times_file.write(f'greedy cycle; {round(results_c[\"average_time\"],4)} ({round(results_c[\"worst_time\"],4)} - {round(results_c[\"best_time\"],4)}); {round(results_d[\"average_time\"],4)} ({round(results_d[\"worst_time\"],4)} - {round(results_d[\"best_time\"],4)})\\n')"
   ],
   "metadata": {
    "collapsed": false,
    "pycharm": {
     "name": "#%%\n"
    }
   }
  },
  {
   "cell_type": "code",
   "execution_count": 7,
   "outputs": [
    {
     "data": {
      "text/plain": "  0%|          | 0/200 [00:00<?, ?it/s]",
      "application/vnd.jupyter.widget-view+json": {
       "version_major": 2,
       "version_minor": 0,
       "model_id": "34f54432b7a849b7ba162f3efe406425"
      }
     },
     "metadata": {},
     "output_type": "display_data"
    },
    {
     "data": {
      "text/plain": "  0%|          | 0/200 [00:00<?, ?it/s]",
      "application/vnd.jupyter.widget-view+json": {
       "version_major": 2,
       "version_minor": 0,
       "model_id": "804e6501f18742f9bf8a2507a0d779fa"
      }
     },
     "metadata": {},
     "output_type": "display_data"
    },
    {
     "data": {
      "text/plain": "77"
     },
     "execution_count": 7,
     "metadata": {},
     "output_type": "execute_result"
    }
   ],
   "source": [
    "results_c = lab2_evaluate(greedy_cycle,tsp_c,weight=0.5)\n",
    "results_d = lab2_evaluate(greedy_cycle,tsp_d,weight=0.5)\n",
    "\n",
    "scores_file.write(f'greedy cycle with regret; {results_c[\"average_score\"]} ({results_c[\"worst_score\"]} - {results_c[\"best_score\"]}); {results_d[\"average_score\"]} ({results_d[\"worst_score\"]} - {results_d[\"best_score\"]})\\n')\n",
    "\n",
    "times_file.write(f'greedy cycle with regret; {round(results_c[\"average_time\"],4)} ({round(results_c[\"worst_time\"],4)} - {round(results_c[\"best_time\"],4)}); {round(results_d[\"average_time\"],4)} ({round(results_d[\"worst_time\"],4)} - {round(results_d[\"best_time\"],4)})\\n')"
   ],
   "metadata": {
    "collapsed": false,
    "pycharm": {
     "name": "#%%\n"
    }
   }
  },
  {
   "cell_type": "code",
   "execution_count": 8,
   "outputs": [],
   "source": [
    "scores_file.close()\n",
    "times_file.close()"
   ],
   "metadata": {
    "collapsed": false,
    "pycharm": {
     "name": "#%%\n"
    }
   }
  },
  {
   "cell_type": "code",
   "execution_count": 8,
   "outputs": [],
   "source": [],
   "metadata": {
    "collapsed": false,
    "pycharm": {
     "name": "#%%\n"
    }
   }
  }
 ],
 "metadata": {
  "kernelspec": {
   "display_name": "Python 3",
   "language": "python",
   "name": "python3"
  },
  "language_info": {
   "codemirror_mode": {
    "name": "ipython",
    "version": 2
   },
   "file_extension": ".py",
   "mimetype": "text/x-python",
   "name": "python",
   "nbconvert_exporter": "python",
   "pygments_lexer": "ipython2",
   "version": "2.7.6"
  }
 },
 "nbformat": 4,
 "nbformat_minor": 0
}