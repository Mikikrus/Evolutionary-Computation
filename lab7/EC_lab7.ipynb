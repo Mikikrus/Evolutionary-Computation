{
 "cells": [
  {
   "cell_type": "code",
   "execution_count": 1,
   "metadata": {
    "pycharm": {
     "name": "#%%\n"
    }
   },
   "outputs": [],
   "source": [
    "import numpy as np\n",
    "import random\n",
    "from matplotlib import pyplot as plt\n",
    "from tqdm.auto import tqdm\n",
    "from scipy.spatial.distance import cdist\n",
    "from itertools import combinations\n",
    "from numpy.lib.stride_tricks import sliding_window_view\n",
    "from time import time"
   ]
  },
  {
   "cell_type": "code",
   "execution_count": 2,
   "metadata": {
    "pycharm": {
     "name": "#%%\n"
    }
   },
   "outputs": [],
   "source": [
    "def calculate_average(*args,**kwargs):\n",
    "    return np.mean(args)"
   ]
  },
  {
   "cell_type": "code",
   "execution_count": 3,
   "metadata": {
    "pycharm": {
     "name": "#%%\n"
    }
   },
   "outputs": [],
   "source": [
    "def calculate_cost(data: np.ndarray) -> np.ndarray:\n",
    "    costs = cdist(data[:,2].reshape(-1,1), data[:,2].reshape(-1,1),calculate_average)\n",
    "    distances = np.round(cdist(data[:,:2], data[:,:2], 'euclidean'))\n",
    "    distances = distances + costs\n",
    "    return distances"
   ]
  },
  {
   "cell_type": "code",
   "execution_count": 4,
   "metadata": {
    "pycharm": {
     "name": "#%%\n"
    }
   },
   "outputs": [],
   "source": [
    "def random_initial_solution(data: np.ndarray) -> np.ndarray:\n",
    "    \"\"\"\n",
    "    Creates shuffled array of indices with size equal to half of the data points.\n",
    "    :param data: Data points\n",
    "    :type data: np.ndarray\n",
    "    :return: Data indices of nodes contained in initial solutions\n",
    "    :rtype: np.ndarray\n",
    "    \"\"\"\n",
    "    indices = np.arange(len(data))\n",
    "    np.random.shuffle(indices)\n",
    "    order = indices[:len(data)//2]\n",
    "    return order"
   ]
  },
  {
   "cell_type": "code",
   "execution_count": 5,
   "metadata": {
    "pycharm": {
     "name": "#%%\n"
    }
   },
   "outputs": [],
   "source": [
    "def create_node_exchange_neighborhood(order: np.ndarray, num_of_all_points: int) -> np.ndarray:\n",
    "    ind = np.arange(len(order))\n",
    "    #Inter-route\n",
    "    indices_for_all_data = np.arange(num_of_all_points)\n",
    "    not_selected = np.setdiff1d(indices_for_all_data, order)\n",
    "    XX, YY = np.meshgrid(ind,not_selected)\n",
    "    inter_route = np.dstack([XX,YY]).reshape(-1, 2)\n",
    "    is_inter_route = np.zeros((inter_route.shape[0],1),dtype=np.int32)\n",
    "    inter_route = np.concatenate((is_inter_route,inter_route),1)\n",
    "    return inter_route"
   ]
  },
  {
   "cell_type": "code",
   "execution_count": 6,
   "metadata": {
    "pycharm": {
     "name": "#%%\n"
    }
   },
   "outputs": [],
   "source": [
    "def create_neighborhood(order: np.ndarray, num_of_all_points: int) -> np.ndarray:\n",
    "    \"\"\"\n",
    "    Creates every possible move.\n",
    "    ------------\n",
    "    Inter-route\n",
    "        Creates every possible combination of adding a new node to the nodes contained in the solution\n",
    "    Edge exchange\n",
    "        Creates every possible combination of pairs contained in the solution\n",
    "\n",
    "    :param order: Array of indices contained in the solution\n",
    "    :type order: np.ndarray\n",
    "    :param num_of_all_points: Number of all data points\n",
    "    :type num_of_all_points: int\n",
    "    :return: Neighborhood with first column defining whether move is inter-route and the following columns defining move.\n",
    "    :rtype:\n",
    "    \"\"\"\n",
    "    ind = np.arange(len(order))\n",
    "    #Inter-route\n",
    "    inter_route = create_node_exchange_neighborhood(order,num_of_all_points)\n",
    "    # #Edge exchange\n",
    "    edge_ex = np.array(list(combinations(ind, 2)))\n",
    "    is_inter_route = np.ones((edge_ex.shape[0],1),dtype=np.int32)\n",
    "    edge_ex = np.concatenate((is_inter_route,edge_ex),1)\n",
    "    # return edge_ex\n",
    "    neighborhood = np.vstack((inter_route,edge_ex))\n",
    "    return neighborhood\n",
    "    # return edge_ex"
   ]
  },
  {
   "cell_type": "code",
   "execution_count": 7,
   "metadata": {
    "pycharm": {
     "name": "#%%\n"
    }
   },
   "outputs": [],
   "source": [
    "def calculate_value(data: np.ndarray, distances: np.ndarray, order: np.ndarray) -> tuple:\n",
    "    \"\"\"\n",
    "    :param data: Data points\n",
    "    :type data: np.ndarray\n",
    "    :param distances: Distance matrix\n",
    "    :type distances: np.ndarray\n",
    "    :param order: Array of indices contained in the solution\n",
    "    :type order: np.ndarray\n",
    "    :return: Tuple containing score for the current solution and data points corresponding to the solution\n",
    "    :rtype:\n",
    "    \"\"\"\n",
    "    order = np.append(order,order[0])\n",
    "    x,y =sliding_window_view(order.reshape(1,-1),(1,2)).reshape(-1,2).T\n",
    "    value = distances[x,y].sum()\n",
    "    path = data[order]\n",
    "    return value, path"
   ]
  },
  {
   "cell_type": "code",
   "execution_count": 8,
   "metadata": {
    "pycharm": {
     "name": "#%%\n"
    }
   },
   "outputs": [],
   "source": [
    "def calculate_deltas_for_node_exchange_moves(order:np.ndarray, distances: np.ndarray, possible_inter_moves: np.ndarray) -> np.ndarray:\n",
    "\n",
    "    left_neighbors = order[possible_inter_moves[:,1] -1]\n",
    "    right_neighbors = order[np.remainder(possible_inter_moves[:,1] +1, len(order))]\n",
    "    currently_chosen_nodes = order[possible_inter_moves[:,1]]\n",
    "    current_distances = distances[left_neighbors,currently_chosen_nodes] + distances[currently_chosen_nodes,right_neighbors]\n",
    "\n",
    "    possible_new_nodes = possible_inter_moves[:,2]\n",
    "    possible_new_distances = distances[left_neighbors,possible_new_nodes] + distances[possible_new_nodes,right_neighbors]\n",
    "\n",
    "    all_deltas = current_distances - possible_new_distances\n",
    "    improving_moves_mask = all_deltas>0\n",
    "\n",
    "\n",
    "    improving_deltas = all_deltas[improving_moves_mask].reshape(-1,1).astype(np.int32)\n",
    "\n",
    "    improving_moves = possible_inter_moves[improving_moves_mask]\n",
    "    improving_moves = np.concatenate((improving_deltas,improving_moves),axis=1)\n",
    "    return improving_moves"
   ]
  },
  {
   "cell_type": "code",
   "execution_count": 9,
   "metadata": {
    "pycharm": {
     "name": "#%%\n"
    }
   },
   "outputs": [],
   "source": [
    "def calculate_deltas_for_edge_exchange(order:np.ndarray, distances: np.ndarray, possible_edge_exchange_moves: np.ndarray) -> np.ndarray:\n",
    "    left_nodes = order[possible_edge_exchange_moves[:,1]]\n",
    "    left_nodes_predecessors = order[possible_edge_exchange_moves[:,1] -1]\n",
    "\n",
    "    right_nodes = order[possible_edge_exchange_moves[:,2]]\n",
    "    right_nodes_predecessors = order[possible_edge_exchange_moves[:,2] -1]\n",
    "\n",
    "    current_distances = distances[left_nodes,left_nodes_predecessors] + distances[right_nodes,right_nodes_predecessors]\n",
    "    distances_after_edge_swap = distances[left_nodes,right_nodes] + distances[left_nodes_predecessors,right_nodes_predecessors]\n",
    "\n",
    "    all_deltas = current_distances - distances_after_edge_swap\n",
    "    improving_moves_mask = all_deltas>0\n",
    "\n",
    "\n",
    "    improving_deltas = all_deltas[improving_moves_mask].reshape(-1,1).astype(np.int32)\n",
    "    improving_moves = possible_edge_exchange_moves[improving_moves_mask]\n",
    "    improving_moves = np.concatenate((improving_deltas,improving_moves),axis=1)\n",
    "    return improving_moves"
   ]
  },
  {
   "cell_type": "code",
   "execution_count": 10,
   "metadata": {
    "pycharm": {
     "name": "#%%\n"
    }
   },
   "outputs": [],
   "source": [
    "def calculate_deltas(order: np.ndarray, distances: np.ndarray, neighborhood: np.ndarray) -> np.ndarray:\n",
    "    possible_inter_moves = neighborhood[neighborhood[:,0] == 0]\n",
    "    improving_inter_moves = calculate_deltas_for_node_exchange_moves(order=order,\n",
    "                                                                   distances=distances,\n",
    "                                                                   possible_inter_moves=possible_inter_moves)\n",
    "\n",
    "    possible_edge_exchange_moves = neighborhood[neighborhood[:,0] != 0]\n",
    "\n",
    "    improving_edge_exchange_moves = calculate_deltas_for_edge_exchange(order=order,\n",
    "                                                                       distances=distances,\n",
    "                                                                       possible_edge_exchange_moves=possible_edge_exchange_moves)\n",
    "\n",
    "    all_improving_moves = np.concatenate((improving_inter_moves,improving_edge_exchange_moves),axis=0)\n",
    "\n",
    "    sorted_improving_moves = all_improving_moves[all_improving_moves[:,0].argsort()[::-1]]\n",
    "\n",
    "    return sorted_improving_moves"
   ]
  },
  {
   "cell_type": "code",
   "execution_count": 11,
   "metadata": {
    "pycharm": {
     "name": "#%%\n"
    }
   },
   "outputs": [],
   "source": [
    "def remove_not_applicable_moves(deltas:np.ndarray,best_move: np.ndarray) -> np.ndarray:\n",
    "    node_exchange_moves = deltas[:,1] == 0\n",
    "    edge_exchange_moves = deltas[:,1] == 1\n",
    "\n",
    "    cond = np.bitwise_and(node_exchange_moves,deltas[:,3] ==  best_move[3])\n",
    "\n",
    "    not_applicable_moves = cond\n",
    "    return deltas[~not_applicable_moves]"
   ]
  },
  {
   "cell_type": "code",
   "execution_count": 12,
   "metadata": {
    "pycharm": {
     "name": "#%%\n"
    }
   },
   "outputs": [],
   "source": [
    "def update_order_node_exchange(order:np.ndarray, best_move: np.ndarray) -> np.ndarray:\n",
    "    order[best_move[2]] = best_move[3]\n",
    "    return order"
   ]
  },
  {
   "cell_type": "code",
   "execution_count": 13,
   "metadata": {
    "pycharm": {
     "name": "#%%\n"
    }
   },
   "outputs": [],
   "source": [
    "def update_order_edge_exchange(order:np.ndarray, best_move: np.ndarray) -> np.ndarray:\n",
    "    ind = sorted([best_move[2], best_move[3]])\n",
    "    if ind[0] == 0:\n",
    "        order = np.concatenate((order[ind[1]-1::-1],order[ind[1]:]))\n",
    "    else:\n",
    "        order = np.concatenate((order[:ind[0]],order[ind[1]-1:ind[0]-1:-1],order[ind[1]:]))\n",
    "    return order"
   ]
  },
  {
   "cell_type": "code",
   "execution_count": 14,
   "metadata": {
    "pycharm": {
     "name": "#%%\n"
    }
   },
   "outputs": [],
   "source": [
    "def get_moves_to_recalculate_node_exchange(order:np.ndarray,deltas: np.ndarray, best_move: np.ndarray) -> np.ndarray:\n",
    "    node_exchange_moves = deltas[:,1] == 0\n",
    "    edge_exchange_moves = deltas[:,1] == 1\n",
    "\n",
    "    cond1 = np.bitwise_and(node_exchange_moves,deltas[:,2] == best_move[2])\n",
    "    cond2 = np.bitwise_and(node_exchange_moves,deltas[:,2] == (best_move[2] - 1) % len(order))\n",
    "    cond3 = np.bitwise_and(node_exchange_moves,deltas[:,3] == best_move[3])\n",
    "    cond4 = np.bitwise_and(node_exchange_moves,deltas[:,2] == (best_move[2] +1) % len(order))\n",
    "\n",
    "    cond5 = np.bitwise_and(edge_exchange_moves,deltas[:,2] == best_move[2])\n",
    "    cond6 = np.bitwise_and(edge_exchange_moves,deltas[:,2] == (best_move[2] +1) % len(order))\n",
    "    cond9 = np.bitwise_and(edge_exchange_moves,deltas[:,3] == best_move[2])\n",
    "    cond10 = np.bitwise_and(edge_exchange_moves,deltas[:,3] == (best_move[2] +1) % len(order))\n",
    "\n",
    "    moves_to_remove = cond1 | cond2 | cond3 | cond4 | cond5 | cond6 | cond9 | cond10\n",
    "    return moves_to_remove"
   ]
  },
  {
   "cell_type": "code",
   "execution_count": 15,
   "metadata": {
    "pycharm": {
     "name": "#%%\n"
    }
   },
   "outputs": [],
   "source": [
    "def create_new_moves(order: np.ndarray, removed_node: int) -> np.ndarray:\n",
    "    ind = np.arange(len(order))\n",
    "    removed_node = np.array([removed_node])\n",
    "    XX, YY = np.meshgrid(ind,removed_node)\n",
    "    inter_route = np.dstack([XX,YY]).reshape(-1, 2)\n",
    "    is_inter_route = np.zeros((inter_route.shape[0],1),dtype=np.int32)\n",
    "    inter_route = np.concatenate((is_inter_route,inter_route),1)\n",
    "    return inter_route"
   ]
  },
  {
   "cell_type": "code",
   "execution_count": 16,
   "metadata": {
    "pycharm": {
     "name": "#%%\n"
    }
   },
   "outputs": [],
   "source": [
    "def get_moves_to_recalculate_edge_exchange(deltas: np.ndarray, best_move: np.ndarray) -> np.ndarray:\n",
    "    node_exchange_moves = deltas[:,1] == 0\n",
    "\n",
    "    cond1 = np.bitwise_and(node_exchange_moves,deltas[:,2] == best_move[2])\n",
    "    cond2 = np.bitwise_and(node_exchange_moves,deltas[:,2] == (best_move[2] -1) % len(order))\n",
    "    cond3 = np.bitwise_and(node_exchange_moves,deltas[:,2] == (best_move[3] -1) % len(order))\n",
    "    cond4 = np.bitwise_and(node_exchange_moves,deltas[:,2] == best_move[3])\n",
    "\n",
    "    moves_to_remove = cond1 | cond2 | cond3 | cond4\n",
    "    return moves_to_remove"
   ]
  },
  {
   "cell_type": "code",
   "execution_count": 17,
   "metadata": {},
   "outputs": [],
   "source": [
    "def local_search_steepest(order, distances):\n",
    "    neighborhood = create_neighborhood(order=order,num_of_all_points=len(data))\n",
    "    deltas = calculate_deltas(order,distances,neighborhood)\n",
    "    counter =0\n",
    "\n",
    "    while len(deltas) > 0:\n",
    "        counter +=1\n",
    "        best_move = deltas[0]\n",
    "        # print(\"best_move: \",best_move)\n",
    "        if best_move[1] == 0:\n",
    "            deltas = remove_not_applicable_moves(deltas,best_move)\n",
    "            new_deltas = create_new_moves(order,order[best_move[2]])\n",
    "\n",
    "            order = update_order_node_exchange(order,best_move=best_move)\n",
    "            moves_to_recalculate = get_moves_to_recalculate_node_exchange(order,deltas, best_move)\n",
    "\n",
    "            # print(\"node exchange to recalculate: \\n\",deltas[moves_to_recalculate])\n",
    "            nodes_moves = deltas[:,1] ==0\n",
    "\n",
    "            deltas_to_recalculate = np.concatenate((deltas[moves_to_recalculate,1:],new_deltas),axis=0)\n",
    "            updated_deltas = calculate_deltas(order, distances, deltas_to_recalculate)\n",
    "            # print(\"node exchange after recalculate: \\n\",updated_deltas)\n",
    "\n",
    "            deltas = np.concatenate((deltas[~moves_to_recalculate],updated_deltas),axis=0)\n",
    "            deltas = deltas[deltas[:,0].argsort()[::-1]]\n",
    "            # print(\"all deltas \\n\",deltas[:5])\n",
    "\n",
    "        elif best_move[1] == 1:\n",
    "            order = update_order_edge_exchange(order,best_move)\n",
    "            updated_deltas = calculate_deltas(order,distances,neighborhood[neighborhood[:,0] ==1])\n",
    "            new_deltas = calculate_deltas(order,distances,create_node_exchange_neighborhood(order,len(data)))\n",
    "\n",
    "            deltas = np.concatenate((new_deltas,updated_deltas),axis=0)\n",
    "            deltas = deltas[deltas[:,0].argsort()[::-1]]\n",
    "    return order"
   ]
  },
  {
   "cell_type": "code",
   "execution_count": 18,
   "metadata": {},
   "outputs": [],
   "source": [
    "def destroy(order):\n",
    "    to_delete = set(random.sample(range(len(order)),len(order) // 4))\n",
    "    return [x for i,x in enumerate(order) if not i in to_delete]"
   ]
  },
  {
   "cell_type": "code",
   "execution_count": 19,
   "metadata": {},
   "outputs": [],
   "source": [
    "def repair(order, distances):\n",
    "    # greedy cycle\n",
    "    return order"
   ]
  },
  {
   "cell_type": "code",
   "execution_count": 20,
   "metadata": {},
   "outputs": [],
   "source": [
    "def LSNS(data, distances, args=dict(running_time=10, local_search=True)):\n",
    "    best_solution = (9999999999, None)\n",
    "    order = random_initial_solution(data)\n",
    "    if args[\"local_search\"]:\n",
    "        order = local_search_steepest(order, distances)\n",
    "    best_order = order\n",
    "    start = time()\n",
    "    count = 0\n",
    "    while(args[\"running_time\"] > time() - start):\n",
    "        count += 1\n",
    "        order = destroy(best_order)\n",
    "        order = repair(order, distances) #ten greedy cycle\n",
    "        assert len(best_order) == len(order), f\"Length of best_order is {len(best_order)} but length of order is {len(order)}\"\n",
    "        if args[\"local_search\"]:\n",
    "            order = local_search_steepest(order, distances)\n",
    "        solution = calculate_value(data, distances, order)\n",
    "        if solution[0] < best_solution[0]:\n",
    "            best_solution = solution\n",
    "            best_order = order\n",
    "#         best_solution = min((best_solution, calculate_value(data, distances, order)), key = lambda t: t[0])\n",
    "    return best_solution, count"
   ]
  },
  {
   "cell_type": "code",
   "execution_count": 21,
   "metadata": {},
   "outputs": [],
   "source": [
    "def evaluate(func, data, n=20, args=None):\n",
    "    print(func, args)\n",
    "    distances = calculate_cost(data)\n",
    "    total, worst_value, best_value, best_solution = 0, 0, float('inf'), None\n",
    "    total_time, worst_time, best_time = 0,0,float('inf')\n",
    "    total_iterations, most_iterations, least_iterations = 0,0,float('inf')\n",
    "    for _ in tqdm(range(n)):\n",
    "        start = time()\n",
    "        (value, solution), iterations = func(data, distances, args)\n",
    "        elapsed = time() - start\n",
    "        total_time += elapsed\n",
    "        if elapsed < best_time:\n",
    "            best_time = elapsed\n",
    "        worst_time = max(worst_time, elapsed)\n",
    "\n",
    "\n",
    "        total += value\n",
    "        if value < best_value:\n",
    "            best_solution = solution\n",
    "            best_value = value\n",
    "        worst_value = max(worst_value, value)\n",
    "        \n",
    "        total_iterations += iterations\n",
    "        least_iterations = min(least_iterations, iterations)\n",
    "        most_iterations = max(most_iterations, iterations)\n",
    "\n",
    "    return dict(average_score=total / n,\n",
    "                worst_score=worst_value,\n",
    "                best_score=best_value,\n",
    "                solution=np.array(best_solution).T,\n",
    "                average_time=total_time / n,\n",
    "                worst_time= worst_time,\n",
    "                best_time = best_time,\n",
    "                average_iterations=total_iterations / n,\n",
    "                most_iterations=most_iterations,\n",
    "                least_iterations=least_iterations)"
   ]
  },
  {
   "cell_type": "code",
   "execution_count": 22,
   "metadata": {},
   "outputs": [],
   "source": [
    "def summarize(func, data, title, args):\n",
    "    evaluation_results = evaluate(func=func,\n",
    "                                    data=data,\n",
    "                                     n = 20,\n",
    "                                     args = args)\n",
    "    (x, y, z) = evaluation_results[\"solution\"]\n",
    "    print(f'{title}:')\n",
    "    print(f'average time: {evaluation_results[\"average_time\"]}\\tworst time: {evaluation_results[\"worst_time\"]}\\tbest time: {evaluation_results[\"best_time\"]}')\n",
    "    print(f'average iterations: {evaluation_results[\"average_iterations\"]}\\tmost iterations: {evaluation_results[\"most_iterations\"]}\\tleast iterations: {evaluation_results[\"least_iterations\"]}')\n",
    "    print(f'average score: {evaluation_results[\"average_score\"]}\\tworst score: {evaluation_results[\"worst_score\"]}\\tbest score: {evaluation_results[\"best_score\"]}')\n",
    "    print('Best solution:')\n",
    "\n",
    "    plt.figure(figsize=(15,10))\n",
    "    plt.scatter(data[:,0], data[:,1], np.full(data[:,0].size, 100), data[:,2], cmap='gray_r')\n",
    "    plt.clim(0, 2000)\n",
    "    plt.colorbar().set_label('cost', labelpad=-45, y=1.025, rotation=0)\n",
    "    plt.plot(x, y, 'r')\n",
    "    plt.xlim([-100, 4100])\n",
    "    plt.ylim([-100, 2100])\n",
    "    plt.title(title)\n",
    "    plt.show()\n",
    "    return evaluation_results"
   ]
  },
  {
   "cell_type": "code",
   "execution_count": 23,
   "metadata": {},
   "outputs": [],
   "source": [
    "data = np.loadtxt('TSPC.csv', dtype=int, delimiter=';')\n",
    "running_time = 15.91"
   ]
  },
  {
   "cell_type": "code",
   "execution_count": 24,
   "metadata": {},
   "outputs": [
    {
     "name": "stdout",
     "output_type": "stream",
     "text": [
      "<function LSNS at 0x7fa63dd2f7b8> {'running_time': 15.91, 'local_search': True}\n"
     ]
    },
    {
     "data": {
      "application/vnd.jupyter.widget-view+json": {
       "model_id": "f654357cd78d4bd9863b0190ed583039",
       "version_major": 2,
       "version_minor": 0
      },
      "text/plain": [
       "HBox(children=(HTML(value=''), FloatProgress(value=0.0, max=20.0), HTML(value='')))"
      ]
     },
     "metadata": {},
     "output_type": "display_data"
    },
    {
     "name": "stdout",
     "output_type": "stream",
     "text": [
      "\n"
     ]
    },
    {
     "ename": "AssertionError",
     "evalue": "Length of best_order is 100 but length of order is 75",
     "output_type": "error",
     "traceback": [
      "\u001b[0;31m---------------------------------------------------------------------------\u001b[0m",
      "\u001b[0;31mAssertionError\u001b[0m                            Traceback (most recent call last)",
      "\u001b[0;32m<ipython-input-24-7689209b8335>\u001b[0m in \u001b[0;36m<module>\u001b[0;34m\u001b[0m\n\u001b[1;32m      1\u001b[0m \u001b[0margs\u001b[0m \u001b[0;34m=\u001b[0m \u001b[0mdict\u001b[0m\u001b[0;34m(\u001b[0m\u001b[0mrunning_time\u001b[0m\u001b[0;34m=\u001b[0m\u001b[0mrunning_time\u001b[0m\u001b[0;34m,\u001b[0m \u001b[0mlocal_search\u001b[0m\u001b[0;34m=\u001b[0m\u001b[0;32mTrue\u001b[0m\u001b[0;34m)\u001b[0m\u001b[0;34m\u001b[0m\u001b[0;34m\u001b[0m\u001b[0m\n\u001b[0;32m----> 2\u001b[0;31m \u001b[0m_\u001b[0m \u001b[0;34m=\u001b[0m \u001b[0msummarize\u001b[0m\u001b[0;34m(\u001b[0m\u001b[0mLSNS\u001b[0m\u001b[0;34m,\u001b[0m \u001b[0mdata\u001b[0m\u001b[0;34m,\u001b[0m \u001b[0;34m'LSNS'\u001b[0m\u001b[0;34m,\u001b[0m \u001b[0margs\u001b[0m\u001b[0;34m)\u001b[0m\u001b[0;34m\u001b[0m\u001b[0;34m\u001b[0m\u001b[0m\n\u001b[0m",
      "\u001b[0;32m<ipython-input-22-e8d59ebe41e2>\u001b[0m in \u001b[0;36msummarize\u001b[0;34m(func, data, title, args)\u001b[0m\n\u001b[1;32m      3\u001b[0m                                     \u001b[0mdata\u001b[0m\u001b[0;34m=\u001b[0m\u001b[0mdata\u001b[0m\u001b[0;34m,\u001b[0m\u001b[0;34m\u001b[0m\u001b[0;34m\u001b[0m\u001b[0m\n\u001b[1;32m      4\u001b[0m                                      \u001b[0mn\u001b[0m \u001b[0;34m=\u001b[0m \u001b[0;36m20\u001b[0m\u001b[0;34m,\u001b[0m\u001b[0;34m\u001b[0m\u001b[0;34m\u001b[0m\u001b[0m\n\u001b[0;32m----> 5\u001b[0;31m                                      args = args)\n\u001b[0m\u001b[1;32m      6\u001b[0m     \u001b[0;34m(\u001b[0m\u001b[0mx\u001b[0m\u001b[0;34m,\u001b[0m \u001b[0my\u001b[0m\u001b[0;34m,\u001b[0m \u001b[0mz\u001b[0m\u001b[0;34m)\u001b[0m \u001b[0;34m=\u001b[0m \u001b[0mevaluation_results\u001b[0m\u001b[0;34m[\u001b[0m\u001b[0;34m\"solution\"\u001b[0m\u001b[0;34m]\u001b[0m\u001b[0;34m\u001b[0m\u001b[0;34m\u001b[0m\u001b[0m\n\u001b[1;32m      7\u001b[0m     \u001b[0mprint\u001b[0m\u001b[0;34m(\u001b[0m\u001b[0;34mf'{title}:'\u001b[0m\u001b[0;34m)\u001b[0m\u001b[0;34m\u001b[0m\u001b[0;34m\u001b[0m\u001b[0m\n",
      "\u001b[0;32m<ipython-input-21-2084d9eeba0a>\u001b[0m in \u001b[0;36mevaluate\u001b[0;34m(func, data, n, args)\u001b[0m\n\u001b[1;32m      7\u001b[0m     \u001b[0;32mfor\u001b[0m \u001b[0m_\u001b[0m \u001b[0;32min\u001b[0m \u001b[0mtqdm\u001b[0m\u001b[0;34m(\u001b[0m\u001b[0mrange\u001b[0m\u001b[0;34m(\u001b[0m\u001b[0mn\u001b[0m\u001b[0;34m)\u001b[0m\u001b[0;34m)\u001b[0m\u001b[0;34m:\u001b[0m\u001b[0;34m\u001b[0m\u001b[0;34m\u001b[0m\u001b[0m\n\u001b[1;32m      8\u001b[0m         \u001b[0mstart\u001b[0m \u001b[0;34m=\u001b[0m \u001b[0mtime\u001b[0m\u001b[0;34m(\u001b[0m\u001b[0;34m)\u001b[0m\u001b[0;34m\u001b[0m\u001b[0;34m\u001b[0m\u001b[0m\n\u001b[0;32m----> 9\u001b[0;31m         \u001b[0;34m(\u001b[0m\u001b[0mvalue\u001b[0m\u001b[0;34m,\u001b[0m \u001b[0msolution\u001b[0m\u001b[0;34m)\u001b[0m\u001b[0;34m,\u001b[0m \u001b[0miterations\u001b[0m \u001b[0;34m=\u001b[0m \u001b[0mfunc\u001b[0m\u001b[0;34m(\u001b[0m\u001b[0mdata\u001b[0m\u001b[0;34m,\u001b[0m \u001b[0mdistances\u001b[0m\u001b[0;34m,\u001b[0m \u001b[0margs\u001b[0m\u001b[0;34m)\u001b[0m\u001b[0;34m\u001b[0m\u001b[0;34m\u001b[0m\u001b[0m\n\u001b[0m\u001b[1;32m     10\u001b[0m         \u001b[0melapsed\u001b[0m \u001b[0;34m=\u001b[0m \u001b[0mtime\u001b[0m\u001b[0;34m(\u001b[0m\u001b[0;34m)\u001b[0m \u001b[0;34m-\u001b[0m \u001b[0mstart\u001b[0m\u001b[0;34m\u001b[0m\u001b[0;34m\u001b[0m\u001b[0m\n\u001b[1;32m     11\u001b[0m         \u001b[0mtotal_time\u001b[0m \u001b[0;34m+=\u001b[0m \u001b[0melapsed\u001b[0m\u001b[0;34m\u001b[0m\u001b[0;34m\u001b[0m\u001b[0m\n",
      "\u001b[0;32m<ipython-input-20-93e081156049>\u001b[0m in \u001b[0;36mLSNS\u001b[0;34m(data, distances, args)\u001b[0m\n\u001b[1;32m     11\u001b[0m         \u001b[0morder\u001b[0m \u001b[0;34m=\u001b[0m \u001b[0mdestroy\u001b[0m\u001b[0;34m(\u001b[0m\u001b[0mbest_order\u001b[0m\u001b[0;34m)\u001b[0m\u001b[0;34m\u001b[0m\u001b[0;34m\u001b[0m\u001b[0m\n\u001b[1;32m     12\u001b[0m         \u001b[0morder\u001b[0m \u001b[0;34m=\u001b[0m \u001b[0mrepair\u001b[0m\u001b[0;34m(\u001b[0m\u001b[0morder\u001b[0m\u001b[0;34m,\u001b[0m \u001b[0mdistances\u001b[0m\u001b[0;34m)\u001b[0m \u001b[0;31m#ten greedy cycle\u001b[0m\u001b[0;34m\u001b[0m\u001b[0;34m\u001b[0m\u001b[0m\n\u001b[0;32m---> 13\u001b[0;31m         \u001b[0;32massert\u001b[0m \u001b[0mlen\u001b[0m\u001b[0;34m(\u001b[0m\u001b[0mbest_order\u001b[0m\u001b[0;34m)\u001b[0m \u001b[0;34m==\u001b[0m \u001b[0mlen\u001b[0m\u001b[0;34m(\u001b[0m\u001b[0morder\u001b[0m\u001b[0;34m)\u001b[0m\u001b[0;34m,\u001b[0m \u001b[0;34mf\"Length of best_order is {len(best_order)} but length of order is {len(order)}\"\u001b[0m\u001b[0;34m\u001b[0m\u001b[0;34m\u001b[0m\u001b[0m\n\u001b[0m\u001b[1;32m     14\u001b[0m         \u001b[0;32mif\u001b[0m \u001b[0margs\u001b[0m\u001b[0;34m[\u001b[0m\u001b[0;34m\"local_search\"\u001b[0m\u001b[0;34m]\u001b[0m\u001b[0;34m:\u001b[0m\u001b[0;34m\u001b[0m\u001b[0;34m\u001b[0m\u001b[0m\n\u001b[1;32m     15\u001b[0m             \u001b[0morder\u001b[0m \u001b[0;34m=\u001b[0m \u001b[0mlocal_search_steepest\u001b[0m\u001b[0;34m(\u001b[0m\u001b[0morder\u001b[0m\u001b[0;34m,\u001b[0m \u001b[0mdistances\u001b[0m\u001b[0;34m)\u001b[0m\u001b[0;34m\u001b[0m\u001b[0;34m\u001b[0m\u001b[0m\n",
      "\u001b[0;31mAssertionError\u001b[0m: Length of best_order is 100 but length of order is 75"
     ]
    }
   ],
   "source": [
    "args = dict(running_time=running_time, local_search=True)\n",
    "_ = summarize(LSNS, data, 'LSNS', args)"
   ]
  },
  {
   "cell_type": "code",
   "execution_count": null,
   "metadata": {},
   "outputs": [],
   "source": [
    "data = np.loadtxt('TSPD.csv', dtype=int, delimiter=';')\n",
    "running_time = 15.83"
   ]
  },
  {
   "cell_type": "code",
   "execution_count": null,
   "metadata": {},
   "outputs": [],
   "source": [
    "args = dict(running_time=1, local_search=True)\n",
    "_ = summarize(LSNS, data, 'LSNS', args)"
   ]
  }
 ],
 "metadata": {
  "kernelspec": {
   "display_name": "Python 3",
   "language": "python",
   "name": "python3"
  },
  "language_info": {
   "codemirror_mode": {
    "name": "ipython",
    "version": 3
   },
   "file_extension": ".py",
   "mimetype": "text/x-python",
   "name": "python",
   "nbconvert_exporter": "python",
   "pygments_lexer": "ipython3",
   "version": "3.7.3"
  },
  "toc": {
   "base_numbering": 1,
   "nav_menu": {},
   "number_sections": true,
   "sideBar": true,
   "skip_h1_title": false,
   "title_cell": "Table of Contents",
   "title_sidebar": "Contents",
   "toc_cell": false,
   "toc_position": {},
   "toc_section_display": true,
   "toc_window_display": false
  }
 },
 "nbformat": 4,
 "nbformat_minor": 2
}
