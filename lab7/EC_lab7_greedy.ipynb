{
 "cells": [
  {
   "cell_type": "code",
   "execution_count": 25,
   "metadata": {
    "collapsed": true,
    "pycharm": {
     "name": "#%%\n"
    }
   },
   "outputs": [],
   "source": [
    "import numpy as np\n",
    "import random\n",
    "from matplotlib import pyplot as plt\n",
    "from tqdm.auto import tqdm\n",
    "from scipy.spatial.distance import cdist\n",
    "from scipy.special import softmax\n",
    "from itertools import combinations\n",
    "from numpy.lib.stride_tricks import sliding_window_view\n",
    "from time import time"
   ]
  },
  {
   "cell_type": "code",
   "execution_count": 2,
   "outputs": [],
   "source": [
    "def calculate_average(*args,**kwargs):\n",
    "    return np.mean(args)"
   ],
   "metadata": {
    "collapsed": false,
    "pycharm": {
     "name": "#%%\n"
    }
   }
  },
  {
   "cell_type": "code",
   "execution_count": 3,
   "outputs": [],
   "source": [
    "def calculate_cost(data: np.ndarray) -> np.ndarray:\n",
    "    costs = cdist(data[:,2].reshape(-1,1), data[:,2].reshape(-1,1),calculate_average)\n",
    "    distances = np.round(cdist(data[:,:2], data[:,:2], 'euclidean'))\n",
    "    distances = distances + costs\n",
    "    return distances"
   ],
   "metadata": {
    "collapsed": false,
    "pycharm": {
     "name": "#%%\n"
    }
   }
  },
  {
   "cell_type": "code",
   "execution_count": 4,
   "outputs": [],
   "source": [
    "def get_match_node(edge1: list, edge2: list) -> list:\n",
    "    intersection = set(edge1).intersection(set( edge2))\n",
    "    return list(intersection)"
   ],
   "metadata": {
    "collapsed": false,
    "pycharm": {
     "name": "#%%\n"
    }
   }
  },
  {
   "cell_type": "code",
   "execution_count": 5,
   "outputs": [],
   "source": [
    "def random_initial_solution(data: np.ndarray, size:int=None) -> np.ndarray:\n",
    "    \"\"\"\n",
    "    Creates shuffled array of indices with size equal to half of the data points.\n",
    "    :param data: Data points\n",
    "    :type data: np.ndarray\n",
    "    :return: Data indices of nodes contained in initial solutions\n",
    "    :rtype: np.ndarray\n",
    "    \"\"\"\n",
    "    size = size if size is not None else len(data)//2\n",
    "    indices = np.arange(len(data))\n",
    "    np.random.shuffle(indices)\n",
    "    order = indices[:size]\n",
    "    return order"
   ],
   "metadata": {
    "collapsed": false,
    "pycharm": {
     "name": "#%%\n"
    }
   }
  },
  {
   "cell_type": "code",
   "execution_count": 6,
   "outputs": [],
   "source": [
    "def get_order_edges(order:np.ndarray) -> np.ndarray:\n",
    "    order = np.append(order,order[0])\n",
    "    order_edges =sliding_window_view(order.reshape(1,-1),(1,2)).reshape(-1,2)\n",
    "    return order_edges"
   ],
   "metadata": {
    "collapsed": false,
    "pycharm": {
     "name": "#%%\n"
    }
   }
  },
  {
   "cell_type": "code",
   "execution_count": 7,
   "outputs": [],
   "source": [
    "def calculate_value(data: np.ndarray, distances: np.ndarray, order: np.ndarray) -> tuple:\n",
    "    \"\"\"\n",
    "    :param data: Data points\n",
    "    :type data: np.ndarray\n",
    "    :param distances: Distance matrix\n",
    "    :type distances: np.ndarray\n",
    "    :param order: Array of indices contained in the solution\n",
    "    :type order: np.ndarray\n",
    "    :return: Tuple containing score for the current solution and data points corresponding to the solution\n",
    "    :rtype:\n",
    "    \"\"\"\n",
    "    order = np.append(order,order[0])\n",
    "    x,y =sliding_window_view(order.reshape(1,-1),(1,2)).reshape(-1,2).T\n",
    "    value = distances[x,y].sum()\n",
    "    path = data[order]\n",
    "    return value, path"
   ],
   "metadata": {
    "collapsed": false,
    "pycharm": {
     "name": "#%%\n"
    }
   }
  },
  {
   "cell_type": "code",
   "execution_count": 8,
   "outputs": [],
   "source": [
    "def sort_edges(edges: list) -> list:\n",
    "    edges_sorted = [edges.pop(0)]\n",
    "    last_edge = edges_sorted[-1]\n",
    "    number_of_edges = len(edges)\n",
    "    while len(edges_sorted) != number_of_edges:\n",
    "        index = 0\n",
    "        while len(edges) > index:\n",
    "            matching_node = get_match_node(last_edge, edges[index])\n",
    "            if matching_node:\n",
    "                matching_node = matching_node[0]\n",
    "                last_edge = last_edge if matching_node == last_edge[1] else last_edge[::-1]\n",
    "                edge = edges.pop(index)\n",
    "                edge = edge if last_edge[1] == edge[0] else edge[::-1]\n",
    "                edges_sorted[-1] = last_edge\n",
    "                edges_sorted.append(edge)\n",
    "                last_edge = edges_sorted[-1]\n",
    "                break\n",
    "            index+=1\n",
    "    edges_sorted.append(edges.pop(0))\n",
    "    return edges_sorted"
   ],
   "metadata": {
    "collapsed": false,
    "pycharm": {
     "name": "#%%\n"
    }
   }
  },
  {
   "cell_type": "code",
   "execution_count": 9,
   "outputs": [],
   "source": [
    "def choose_node_regret_weighted(distances:np.ndarray,order_edges:list,available_nodes:np.ndarray,weight: float = 0.5, k=3) -> tuple:\n",
    "    node_cost_matrix = distances[available_nodes][:,order_edges].sum(axis=-1) - distances[order_edges[:,0],order_edges[:,1]]\n",
    "    partitioned_cost_matrix_indices = np.argpartition(node_cost_matrix, k, axis = 1)[:,:k] #https://numpy.org/doc/stable/reference/generated/numpy.partition.html\n",
    "    top_k_costs = np.take_along_axis(node_cost_matrix,partitioned_cost_matrix_indices,axis=1)\n",
    "    partitioned_cost_matrix_indices = np.take_along_axis(partitioned_cost_matrix_indices,top_k_costs.argsort(axis=1),axis=1)\n",
    "    partitioned_cost_matrix = np.take_along_axis(node_cost_matrix,partitioned_cost_matrix_indices,axis=1) #partitioned_cost_matrix[partitioned_cost_matrix]\n",
    "    regret = partitioned_cost_matrix[:,1:].sum(axis=1)\n",
    "    weighted_regret = weight*regret - (1-weight)*partitioned_cost_matrix[:,0]\n",
    "    max_regret_index = weighted_regret.argmax() #new_node_index\n",
    "    edges_index = partitioned_cost_matrix_indices[max_regret_index,0]\n",
    "    cost = distances[max_regret_index,order_edges[edges_index]].sum() - distances[order_edges[edges_index][0],order_edges[edges_index][1]]\n",
    "    return cost, available_nodes[max_regret_index], edges_index"
   ],
   "metadata": {
    "collapsed": false,
    "pycharm": {
     "name": "#%%\n"
    }
   }
  },
  {
   "cell_type": "code",
   "execution_count": 10,
   "outputs": [],
   "source": [
    "def greedy_cycle_with_regret(order:np.ndarray,\n",
    "                             distances: np.ndarray,\n",
    "                             data:np.ndarray,\n",
    "                             k:int = 3,\n",
    "                             weight:float = 0.1) -> np.ndarray:\n",
    "    all_nodes = np.arange(len(data))\n",
    "    order_edges = get_order_edges(order)\n",
    "    value,_ = calculate_value(data,distances,order)\n",
    "\n",
    "    while(len(order) < len(data)//2):\n",
    "        cost, new_node_index,best_new_node_index = choose_node_regret_weighted(distances=distances,\n",
    "                                   order_edges=order_edges,\n",
    "                                   available_nodes=np.setdiff1d(all_nodes,order),\n",
    "                                   weight=weight,\n",
    "                                   k=k)\n",
    "        parent_nodes = order_edges[best_new_node_index]\n",
    "        order_edges = np.delete(order_edges,best_new_node_index,axis=0)\n",
    "        order_edges = np.insert(order_edges,\n",
    "                                [best_new_node_index,(best_new_node_index+1) % len(order_edges)],\n",
    "                                np.array([[parent_nodes[0],new_node_index],[parent_nodes[1],new_node_index]]),\n",
    "                                0)\n",
    "        value+=cost\n",
    "        order = np.insert(order,0,new_node_index)\n",
    "    sorted_edges = np.array(sort_edges(list(order_edges)))\n",
    "    final_order = sorted_edges.flatten()[::2]\n",
    "    return final_order"
   ],
   "metadata": {
    "collapsed": false,
    "pycharm": {
     "name": "#%%\n"
    }
   }
  },
  {
   "cell_type": "code",
   "execution_count": 54,
   "outputs": [],
   "source": [
    "def destroy(order):\n",
    "    indices = np.arange(order.shape[0])\n",
    "    mask = np.ones(order.shape[0],dtype=bool)\n",
    "    order_copy = np.append(order,order[0])\n",
    "    x,y =sliding_window_view(order_copy.reshape(1,-1),(1,2)).reshape(-1,2).T\n",
    "    to_delete = np.random.choice(indices,len(order)//4,replace=False,p=softmax(distances[x,y]))\n",
    "    mask[to_delete] =False\n",
    "    return order[mask]"
   ],
   "metadata": {
    "collapsed": false,
    "pycharm": {
     "name": "#%%\n"
    }
   }
  },
  {
   "cell_type": "code",
   "execution_count": 55,
   "outputs": [],
   "source": [
    "def repair(order,distances, data,k=3,weight=0.2):\n",
    "    order = greedy_cycle_with_regret(order,distances,data,k,weight)\n",
    "    return order"
   ],
   "metadata": {
    "collapsed": false,
    "pycharm": {
     "name": "#%%\n"
    }
   }
  },
  {
   "cell_type": "code",
   "execution_count": 33,
   "outputs": [],
   "source": [
    "data = np.loadtxt('TSPC.csv', dtype=int, delimiter=';')\n",
    "distances = calculate_cost(data)\n",
    "order = random_initial_solution(data,size=4)"
   ],
   "metadata": {
    "collapsed": false,
    "pycharm": {
     "name": "#%%\n"
    }
   }
  },
  {
   "cell_type": "code",
   "execution_count": 35,
   "outputs": [
    {
     "data": {
      "text/plain": "(51297.0,\n array([[1810, 1479,  120],\n        [1916, 1770,  331],\n        [1821, 1845,  553],\n        [1914, 1880,  389],\n        [2057, 1855,   31],\n        [2299, 1689,  429],\n        [2344, 1276,  450],\n        [2187, 1239,   87],\n        [2181, 1096,  452],\n        [2137, 1049,  362],\n        [2292,  618,  318],\n        [2055,  446,   71],\n        [1878,  511,  318],\n        [1899,  430,  342],\n        [1510,  353,   42],\n        [1047,  194,  208],\n        [1100,   39,   15],\n        [1424,   69,   75],\n        [1549,  241,  553],\n        [1674,  295,  194],\n        [1812,  325,  328],\n        [2125,  360,   72],\n        [2105,  269,  270],\n        [1970,  134,  239],\n        [2357,  227,  380],\n        [2342,    6,  513],\n        [2605,    3,  182],\n        [2720,   99,  660],\n        [2809,  265,  435],\n        [2888,   86,  527],\n        [2955,    1,  332],\n        [2963,  116,   55],\n        [3042,  123,  241],\n        [2993,  313,   28],\n        [3050,  426,   82],\n        [3181,  580,  379],\n        [3381,  416,  383],\n        [3773,  355,   68],\n        [3359,  668,  191],\n        [3193,  878,  437],\n        [3498, 1106,  546],\n        [3805, 1161,  136],\n        [3630, 1207,  589],\n        [3535, 1302,  186],\n        [3510, 1368,   74],\n        [3587, 1694,  293],\n        [3421, 1686,  425],\n        [3348, 1871,  498],\n        [3449, 1918,  482],\n        [3471, 1985,  526],\n        [3332, 1986,  266],\n        [3113, 1802,  247],\n        [2838, 1937,   14],\n        [2689, 1975,  489],\n        [2669, 1954,  525],\n        [2572, 1989,   75],\n        [2692, 1857,  216],\n        [3007, 1799,  380],\n        [3184, 1494,  320],\n        [3121, 1452,  558],\n        [3101, 1318,  409],\n        [3072, 1182,   97],\n        [2947, 1033,  497],\n        [2720,  951,  377],\n        [2548,  936,  116],\n        [2099,  929,  328],\n        [1826,  830,  405],\n        [1603,  806,  255],\n        [1399,  777,  517],\n        [1186, 1152,   16],\n        [1032,  882,  392],\n        [ 993,  590,  218],\n        [ 949,  792,  177],\n        [ 664, 1168,  124],\n        [ 533,  972,  466],\n        [ 524,  935,  589],\n        [ 290,  766,  111],\n        [ 183,  867,  281],\n        [  34, 1105,  224],\n        [ 154, 1204,  261],\n        [ 334, 1269,  450],\n        [ 628, 1342,   60],\n        [ 671, 1320,   37],\n        [ 808, 1331,  681],\n        [1023, 1258,   98],\n        [1187, 1284,  169],\n        [1157, 1413,  287],\n        [1292, 1392,  135],\n        [1278, 1463,  514],\n        [1266, 1534,  362],\n        [1055, 1629,  232],\n        [1109, 1824,  422],\n        [1119, 1848,  418],\n        [1433, 1792,  319],\n        [1612, 1918,  215],\n        [1639, 1811,  608],\n        [1481, 1516,  321],\n        [1777, 1357,  579],\n        [1769, 1386,  282],\n        [1810, 1479,  120],\n        [1810, 1479,  120]]))"
     },
     "execution_count": 35,
     "metadata": {},
     "output_type": "execute_result"
    }
   ],
   "source": [
    "calculate_value(data,distances,order)"
   ],
   "metadata": {
    "collapsed": false,
    "pycharm": {
     "name": "#%%\n"
    }
   }
  },
  {
   "cell_type": "code",
   "execution_count": 14,
   "outputs": [],
   "source": [],
   "metadata": {
    "collapsed": false,
    "pycharm": {
     "name": "#%%\n"
    }
   }
  }
 ],
 "metadata": {
  "kernelspec": {
   "display_name": "Python 3",
   "language": "python",
   "name": "python3"
  },
  "language_info": {
   "codemirror_mode": {
    "name": "ipython",
    "version": 2
   },
   "file_extension": ".py",
   "mimetype": "text/x-python",
   "name": "python",
   "nbconvert_exporter": "python",
   "pygments_lexer": "ipython2",
   "version": "2.7.6"
  }
 },
 "nbformat": 4,
 "nbformat_minor": 0
}